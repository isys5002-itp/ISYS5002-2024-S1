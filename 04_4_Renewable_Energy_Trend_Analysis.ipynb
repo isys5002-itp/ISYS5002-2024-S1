{
  "cells": [
    {
      "cell_type": "markdown",
      "metadata": {
        "id": "view-in-github",
        "colab_type": "text"
      },
      "source": [
        "<a href=\"https://colab.research.google.com/github/isys5002-itp/ISYS5002-2024-S1/blob/main/04_4_Renewable_Energy_Trend_Analysis.ipynb\" target=\"_parent\"><img src=\"https://colab.research.google.com/assets/colab-badge.svg\" alt=\"Open In Colab\"/></a>"
      ]
    },
    {
      "cell_type": "markdown",
      "source": [
        "## Renewable Energy Trends Analysis: Hydro, Wind, and Solar Energy\n",
        "\n",
        "The [dataset](https://www.abs.gov.au/statistics/industry/energy/energy-account-australia/2020-21#renewable-energy-use) presents a comprehensive overview of renewable energy sources, specifically hydro, wind, and solar energy, over a span of two decades. The provided data showcases the energy production levels in petajoules (PJ) for each source from the financial year 2002-03 to 2020-21.\n",
        "\n",
        "Source:\n",
        "This dataset is sourced from the Australian Bureau of Statistics' \"Energy Account, Australia\" report for the 2020-21 financial year, providing valuable insights into the nation's renewable energy sector.\n",
        "\n",
        "Source: https://www.abs.gov.au/statistics/industry/energy/energy-account-australia/2020-21"
      ],
      "metadata": {
        "id": "YZPK3EQ7OBGT"
      }
    },
    {
      "cell_type": "code",
      "source": [
        "#import csv module\n",
        "import csv"
      ],
      "metadata": {
        "id": "HzELdjjOlqYW"
      },
      "execution_count": null,
      "outputs": []
    },
    {
      "cell_type": "code",
      "source": [
        "with open('data.csv', 'r') as csvfile:\n",
        "    csvreader = csv.reader(csvfile)\n",
        "    next(csvreader)  # Skip header row\n",
        "    for row in csvreader:\n",
        "        print(row)"
      ],
      "metadata": {
        "id": "Uqb_T9GyyiQ7"
      },
      "execution_count": null,
      "outputs": []
    },
    {
      "cell_type": "markdown",
      "source": [
        "### Read data from CSV file"
      ],
      "metadata": {
        "id": "5Aj76TEDR_uX"
      }
    },
    {
      "cell_type": "code",
      "source": [
        "# Initialize lists to store data\n",
        "years = []\n",
        "hydro_energy = []\n",
        "\n",
        "with open('data.csv', 'r') as csvfile:\n",
        "    csvreader = csv.reader(csvfile)\n",
        "    next(csvreader)  # Skip header row\n",
        "    for row in csvreader:\n",
        "        years.append(row[0])\n",
        "        hydro_energy.append(float(row[1]))\n",
        "\n"
      ],
      "metadata": {
        "id": "cOlKHMF_0jUq"
      },
      "execution_count": null,
      "outputs": []
    },
    {
      "cell_type": "markdown",
      "source": [
        "### Plot graph\n",
        "\n",
        "https://matplotlib.org/stable/tutorials/introductory/pyplot.html"
      ],
      "metadata": {
        "id": "MVKxXQBESCdh"
      }
    },
    {
      "cell_type": "code",
      "source": [
        "import matplotlib.pyplot as plt\n",
        "\n",
        "plt.figure(figsize=(10, 6))\n",
        "plt.plot(years, hydro_energy, marker='o', label='Hydro energy')\n",
        "\n",
        "# Add labels and title\n",
        "plt.xlabel('Year')\n",
        "plt.ylabel('Energy (PJ)')\n",
        "plt.title('Energy Generation Over Time')\n",
        "plt.xticks(rotation=45)\n",
        "plt.grid(True)\n",
        "plt.legend()\n",
        "\n",
        "# Show the plot\n",
        "plt.tight_layout()\n",
        "plt.show()"
      ],
      "metadata": {
        "id": "fNKqKnCr03Hh"
      },
      "execution_count": null,
      "outputs": []
    },
    {
      "cell_type": "markdown",
      "source": [
        "### Read wind energy and solar energy data and plot graph"
      ],
      "metadata": {
        "id": "mUKzMcMJRJO-"
      }
    },
    {
      "cell_type": "code",
      "source": [],
      "metadata": {
        "id": "3tXTruNrRcne"
      },
      "execution_count": null,
      "outputs": []
    }
  ],
  "metadata": {
    "colab": {
      "provenance": [],
      "include_colab_link": true
    },
    "kernelspec": {
      "display_name": "Python 3",
      "name": "python3"
    },
    "language_info": {
      "name": "python"
    }
  },
  "nbformat": 4,
  "nbformat_minor": 0
}