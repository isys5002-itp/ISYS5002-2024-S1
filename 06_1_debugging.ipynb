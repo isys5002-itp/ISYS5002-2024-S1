{
  "nbformat": 4,
  "nbformat_minor": 0,
  "metadata": {
    "colab": {
      "provenance": [],
      "include_colab_link": true
    },
    "kernelspec": {
      "name": "python3",
      "display_name": "Python 3"
    },
    "language_info": {
      "name": "python"
    }
  },
  "cells": [
    {
      "cell_type": "markdown",
      "metadata": {
        "id": "view-in-github",
        "colab_type": "text"
      },
      "source": [
        "<a href=\"https://colab.research.google.com/github/isys5002-itp/ISYS5002-2024-S1/blob/main/06_1_debugging.ipynb\" target=\"_parent\"><img src=\"https://colab.research.google.com/assets/colab-badge.svg\" alt=\"Open In Colab\"/></a>"
      ]
    },
    {
      "cell_type": "markdown",
      "source": [
        "# Debugging\n",
        "\n",
        "When you first begin to program, you make a lot of mistakes, and your code doesn’t always work!\n",
        "\n",
        "When you're a skilled programmer, you make mistakes and your code doesn’t always work.\n",
        "\n",
        "**Everyone needs debugging skills.**\n",
        "\n",
        "Debugging is the process of figuring out what is going wrong with your code.There are many ways to debug.\n",
        "\n",
        "**Debugging:** `pdb` (Python Debugger)\n",
        "\n",
        "* The pdb module is primarily used for debugging purposes.\n",
        "* It allows you to set breakpoints in your code and interactively inspect its behavior at runtime.\n",
        "* It's not just about handling errors; it's about understanding how your code executes, inspecting variables, and diagnosing complex issues that go beyond simple error handling.\n",
        "\n",
        "Example scenarios where `pdb` is used:\n",
        "\n",
        "* When you need to step through the code to understand its flow and behavior.\n",
        "* When you want to inspect the values of variables and expressions at specific points in your code.\n",
        "* When you're dealing with logical errors, and the issue isn't immediately obvious.\n",
        "\n",
        "## Handling errors in Code\n",
        "**Handling Errors:** `try-except Blocks`\n",
        "\n",
        "The `try-except` blocks are used for error handling. They allow you to catch and handle specific exceptions that might occur during the execution of your code. It's a way to gracefully handle errors and prevent your program from crashing.\n",
        "\n",
        "Example scenarios where `try-except` blocks is used:\n",
        "\n",
        "* When you expect a specific type of error (e.g., division by zero) and want to handle it in a specific way.\n",
        "* When you want to keep your program running despite encountering errors that you can handle.\n",
        "\n"
      ],
      "metadata": {
        "id": "I_Mvaae0FEHh"
      }
    },
    {
      "cell_type": "markdown",
      "source": [
        "## How to Debug With `Print` Statements\n",
        "\n",
        "`print()` function debugging is great for beginners because it doesn't require special tools. It's a great way to develop a sense of how to debug effectively.\n",
        "\n",
        "Debugging is not just running your code. It also requires reading your code.\n",
        "\n",
        "* Read your code, and\n",
        "* Read your error messages\n",
        "\n",
        "You should have a little bit of an idea of the general area of code where your bug is occurring.  This is often acheived by matching up the output with the code associated with it.\n",
        "\n",
        "You can narrow your search from there: Place print statements so you know \"where\" you are in the code or print the valuse of variables.\n",
        "\n",
        "#### **Which Variables Should You Look at?**\n",
        "\n",
        "Look at the ones that seem to be misbehaving.  Put a print statement before and after an update, if the value changing as expected?\n",
        "\n",
        "You can put  a print statement inside of a for Loop so that it prints out the value every time the loop goes through.  This can show you what the value is are and how they are changing.  \n",
        "\n",
        "#### **Code Excuting as expected**\n",
        "\n",
        "You can put a series of numbers throughout the code. Say print one at the beginning.  Then add print statement in various palces incrementing the number.  Then run the program and look at the output.  If you see the numbers “1” “2” “3” “4” and so on then the program is executing as expected. If a number is missing then you can investigate further to see why.\n",
        "\n",
        "#### **Use Sparingly**\n",
        "\n",
        "Too many print statements can very quickly lead to more confusion, especially within loops.So use your print statements sparingly!"
      ],
      "metadata": {
        "id": "NUsFNiaGKfUk"
      }
    },
    {
      "cell_type": "markdown",
      "source": [
        "### '`divide`' function"
      ],
      "metadata": {
        "id": "lDD7obMkF1aQ"
      }
    },
    {
      "cell_type": "code",
      "source": [
        "def divide(num1, num2):\n",
        "    result = num1 / num2\n",
        "    return result"
      ],
      "metadata": {
        "id": "4Th8BnP1Cxbt"
      },
      "execution_count": 1,
      "outputs": []
    },
    {
      "cell_type": "code",
      "source": [
        "divide(9,7)"
      ],
      "metadata": {
        "id": "6AAo0Xcu5Ln_",
        "colab": {
          "base_uri": "https://localhost:8080/"
        },
        "outputId": "22b8bbe7-bf21-41f9-832f-e459cad83170"
      },
      "execution_count": 2,
      "outputs": [
        {
          "output_type": "execute_result",
          "data": {
            "text/plain": [
              "1.2857142857142858"
            ]
          },
          "metadata": {},
          "execution_count": 2
        }
      ]
    },
    {
      "cell_type": "code",
      "source": [
        "divide(9,0)"
      ],
      "metadata": {
        "colab": {
          "base_uri": "https://localhost:8080/",
          "height": 228
        },
        "id": "PNW9FoVAbHAS",
        "outputId": "af805dcc-1366-467f-b238-0a768a66c906"
      },
      "execution_count": 3,
      "outputs": [
        {
          "output_type": "error",
          "ename": "ZeroDivisionError",
          "evalue": "division by zero",
          "traceback": [
            "\u001b[0;31m---------------------------------------------------------------------------\u001b[0m",
            "\u001b[0;31mZeroDivisionError\u001b[0m                         Traceback (most recent call last)",
            "\u001b[0;32m<ipython-input-3-e302e045e9c2>\u001b[0m in \u001b[0;36m<cell line: 1>\u001b[0;34m()\u001b[0m\n\u001b[0;32m----> 1\u001b[0;31m \u001b[0mdivide\u001b[0m\u001b[0;34m(\u001b[0m\u001b[0;36m9\u001b[0m\u001b[0;34m,\u001b[0m\u001b[0;36m0\u001b[0m\u001b[0;34m)\u001b[0m\u001b[0;34m\u001b[0m\u001b[0;34m\u001b[0m\u001b[0m\n\u001b[0m",
            "\u001b[0;32m<ipython-input-1-c826bbcb731c>\u001b[0m in \u001b[0;36mdivide\u001b[0;34m(num1, num2)\u001b[0m\n\u001b[1;32m      1\u001b[0m \u001b[0;32mdef\u001b[0m \u001b[0mdivide\u001b[0m\u001b[0;34m(\u001b[0m\u001b[0mnum1\u001b[0m\u001b[0;34m,\u001b[0m \u001b[0mnum2\u001b[0m\u001b[0;34m)\u001b[0m\u001b[0;34m:\u001b[0m\u001b[0;34m\u001b[0m\u001b[0;34m\u001b[0m\u001b[0m\n\u001b[0;32m----> 2\u001b[0;31m     \u001b[0mresult\u001b[0m \u001b[0;34m=\u001b[0m \u001b[0mnum1\u001b[0m \u001b[0;34m/\u001b[0m \u001b[0mnum2\u001b[0m\u001b[0;34m\u001b[0m\u001b[0;34m\u001b[0m\u001b[0m\n\u001b[0m\u001b[1;32m      3\u001b[0m     \u001b[0;32mreturn\u001b[0m \u001b[0mresult\u001b[0m\u001b[0;34m\u001b[0m\u001b[0;34m\u001b[0m\u001b[0m\n",
            "\u001b[0;31mZeroDivisionError\u001b[0m: division by zero"
          ]
        }
      ]
    },
    {
      "cell_type": "markdown",
      "source": [
        "## Let's use `print` statements to debug\n",
        "\n",
        "To debug the \"divide\" function using print statements, you can add print statements before and after the if statement to check if the function is receiving the correct inputs and if the if statement is executing correctly.\n",
        "\n",
        "Use `print` statements to print the values of the variables `num1`, `num2`, and `result` at various points in the function. By examining the output of these print statements, we can identify any errors in the function and figure out what's going wrong."
      ],
      "metadata": {
        "id": "cV0HqTCt7zBI"
      }
    },
    {
      "cell_type": "code",
      "source": [
        "def divide(num1, num2):\n",
        "    print(\"num1:\", num1)\n",
        "    print(\"num2:\", num2)\n",
        "    result = num1 / num2\n",
        "    print(\"result:\", result)\n",
        "    return result"
      ],
      "metadata": {
        "id": "WcbOi9kF7v_d"
      },
      "execution_count": 4,
      "outputs": []
    },
    {
      "cell_type": "code",
      "source": [
        "divide(9,3)"
      ],
      "metadata": {
        "id": "qvvvabW38ObU",
        "colab": {
          "base_uri": "https://localhost:8080/"
        },
        "outputId": "61bcde65-ff63-41f0-d41b-6bdd39463676"
      },
      "execution_count": 5,
      "outputs": [
        {
          "output_type": "stream",
          "name": "stdout",
          "text": [
            "num1: 9\n",
            "num2: 3\n",
            "result: 3.0\n"
          ]
        },
        {
          "output_type": "execute_result",
          "data": {
            "text/plain": [
              "3.0"
            ]
          },
          "metadata": {},
          "execution_count": 5
        }
      ]
    },
    {
      "cell_type": "code",
      "source": [
        "var_1 = 3+6\n",
        "var_2 = 1000/50"
      ],
      "metadata": {
        "id": "bSNalspG6xWz"
      },
      "execution_count": 6,
      "outputs": []
    },
    {
      "cell_type": "code",
      "source": [
        "divide(var_1, var_2)"
      ],
      "metadata": {
        "colab": {
          "base_uri": "https://localhost:8080/"
        },
        "id": "20sHKYaYboPK",
        "outputId": "209947db-6b1c-4723-acfd-29422a8d0d78"
      },
      "execution_count": 7,
      "outputs": [
        {
          "output_type": "stream",
          "name": "stdout",
          "text": [
            "num1: 9\n",
            "num2: 20.0\n",
            "result: 0.45\n"
          ]
        },
        {
          "output_type": "execute_result",
          "data": {
            "text/plain": [
              "0.45"
            ]
          },
          "metadata": {},
          "execution_count": 7
        }
      ]
    },
    {
      "cell_type": "code",
      "source": [
        "divide(9,0)"
      ],
      "metadata": {
        "colab": {
          "base_uri": "https://localhost:8080/",
          "height": 297
        },
        "id": "SQITcziNbyZi",
        "outputId": "91608f32-de94-4053-ce67-0cbc6b51297e"
      },
      "execution_count": 8,
      "outputs": [
        {
          "output_type": "stream",
          "name": "stdout",
          "text": [
            "num1: 9\n",
            "num2: 0\n"
          ]
        },
        {
          "output_type": "error",
          "ename": "ZeroDivisionError",
          "evalue": "division by zero",
          "traceback": [
            "\u001b[0;31m---------------------------------------------------------------------------\u001b[0m",
            "\u001b[0;31mZeroDivisionError\u001b[0m                         Traceback (most recent call last)",
            "\u001b[0;32m<ipython-input-8-e302e045e9c2>\u001b[0m in \u001b[0;36m<cell line: 1>\u001b[0;34m()\u001b[0m\n\u001b[0;32m----> 1\u001b[0;31m \u001b[0mdivide\u001b[0m\u001b[0;34m(\u001b[0m\u001b[0;36m9\u001b[0m\u001b[0;34m,\u001b[0m\u001b[0;36m0\u001b[0m\u001b[0;34m)\u001b[0m\u001b[0;34m\u001b[0m\u001b[0;34m\u001b[0m\u001b[0m\n\u001b[0m",
            "\u001b[0;32m<ipython-input-4-6e2dcfe7659c>\u001b[0m in \u001b[0;36mdivide\u001b[0;34m(num1, num2)\u001b[0m\n\u001b[1;32m      2\u001b[0m     \u001b[0mprint\u001b[0m\u001b[0;34m(\u001b[0m\u001b[0;34m\"num1:\"\u001b[0m\u001b[0;34m,\u001b[0m \u001b[0mnum1\u001b[0m\u001b[0;34m)\u001b[0m\u001b[0;34m\u001b[0m\u001b[0;34m\u001b[0m\u001b[0m\n\u001b[1;32m      3\u001b[0m     \u001b[0mprint\u001b[0m\u001b[0;34m(\u001b[0m\u001b[0;34m\"num2:\"\u001b[0m\u001b[0;34m,\u001b[0m \u001b[0mnum2\u001b[0m\u001b[0;34m)\u001b[0m\u001b[0;34m\u001b[0m\u001b[0;34m\u001b[0m\u001b[0m\n\u001b[0;32m----> 4\u001b[0;31m     \u001b[0mresult\u001b[0m \u001b[0;34m=\u001b[0m \u001b[0mnum1\u001b[0m \u001b[0;34m/\u001b[0m \u001b[0mnum2\u001b[0m\u001b[0;34m\u001b[0m\u001b[0;34m\u001b[0m\u001b[0m\n\u001b[0m\u001b[1;32m      5\u001b[0m     \u001b[0mprint\u001b[0m\u001b[0;34m(\u001b[0m\u001b[0;34m\"result:\"\u001b[0m\u001b[0;34m,\u001b[0m \u001b[0mresult\u001b[0m\u001b[0;34m)\u001b[0m\u001b[0;34m\u001b[0m\u001b[0;34m\u001b[0m\u001b[0m\n\u001b[1;32m      6\u001b[0m     \u001b[0;32mreturn\u001b[0m \u001b[0mresult\u001b[0m\u001b[0;34m\u001b[0m\u001b[0;34m\u001b[0m\u001b[0m\n",
            "\u001b[0;31mZeroDivisionError\u001b[0m: division by zero"
          ]
        }
      ]
    },
    {
      "cell_type": "code",
      "source": [
        "'''\n",
        "try/except block added to handle the ZeroDivisionError that will be raised\n",
        "if the user tries to divide by 0.\n",
        "In the except block, we print an error message and return 'None' to\n",
        "indicate that an error occurred.\n",
        "'''\n",
        "\n",
        "def divide(num1, num2):\n",
        "    print(\"num1:\", num1)\n",
        "    print(\"num2:\", num2)\n",
        "    try:\n",
        "      result = num1 / num2\n",
        "    except ZeroDivisionError:\n",
        "      print(\"Error: Cannot divide by 0\")\n",
        "      return None\n",
        "\n",
        "    print(\"result value:\", result)\n",
        "    return result"
      ],
      "metadata": {
        "id": "31YdaglI8x0k"
      },
      "execution_count": 9,
      "outputs": []
    },
    {
      "cell_type": "code",
      "source": [
        "divide(9,3)"
      ],
      "metadata": {
        "id": "i2RXkoU39fb-",
        "colab": {
          "base_uri": "https://localhost:8080/"
        },
        "outputId": "99c4682e-8b90-4e9e-d882-bd6e5137322c"
      },
      "execution_count": 10,
      "outputs": [
        {
          "output_type": "stream",
          "name": "stdout",
          "text": [
            "num1: 9\n",
            "num2: 3\n",
            "result value: 3.0\n"
          ]
        },
        {
          "output_type": "execute_result",
          "data": {
            "text/plain": [
              "3.0"
            ]
          },
          "metadata": {},
          "execution_count": 10
        }
      ]
    },
    {
      "cell_type": "code",
      "source": [
        "divide(9,0)"
      ],
      "metadata": {
        "id": "xx0wYtLj5a4Z",
        "colab": {
          "base_uri": "https://localhost:8080/"
        },
        "outputId": "d820441e-4f12-455e-c55b-345199f4364d"
      },
      "execution_count": 11,
      "outputs": [
        {
          "output_type": "stream",
          "name": "stdout",
          "text": [
            "num1: 9\n",
            "num2: 0\n",
            "Error: Cannot divide by 0\n"
          ]
        }
      ]
    },
    {
      "cell_type": "code",
      "source": [],
      "metadata": {
        "id": "ywLAlNS682O3"
      },
      "execution_count": null,
      "outputs": []
    },
    {
      "cell_type": "markdown",
      "source": [
        "## Debugging with pdb\n",
        "\n",
        "Python 3.7 has a built-in interctive debugger called **pdb**. It is possible to stop the execution of the code at any point by setting a breakpoint.  This will jump you into interactive the pdb command line.  From there you can then print values of variables, list lines of code, run one line of code at a time.  Taken directly from the [pdb documentation](https://docs.python.org/3/library/pdb.html), here are the important five commands.\n",
        "\n",
        "* n(ext): Execute the current line and move to the next line. If the current line is a function call, execute the entire function and return to the next line in the calling code.\n",
        "* s(tep): Execute the current line and step into any function calls on that line. If the current line is not a function call, behave like \"n(ext)\".\n",
        "* c(ontinue): Continue executing the code until the next breakpoint is encountered.\n",
        "* p(rint): Print the value of a variable. For example, \"p x\" would print the current value of the variable \"x\".\n",
        "* q(uit): Quit the debugger and abort the program.\n",
        "* h(elp): Print a list of available commands or provide help on a specific command. For example, \"h p\" would provide help on the \"print\" command.\n",
        "* l(ist): List the code around the current line of execution.\n",
        "* q(uit): Quit the debugger and abort the program.\n",
        "* h(elp): Print a list of available commands or provide help on a specific command. For example, \"h p\" would provide help on the \"print\" command.\n",
        "\n",
        "## How to set a breakpoint()\n",
        "\n",
        "In Python 3.7 to set a breakpoint we put the following function at the location in the code where we want execution to stop:\n",
        "\n",
        "      breakpoint()\n",
        "\n",
        "\n",
        "Normally you would execute the code and try some input.  Match the output to the code and make a educated guess where you would put the print() function.\n",
        "\n",
        "With *pdb* because you can step through one line at a time, you don't have to be as precise with the location of the breakpoint. So it is common to see a break point at the start of the misbehaving function.\n",
        "\n",
        "Where would be a a good location to place a break point?  Place a breakpoint in the following code and then explore some of the basic commands and view the values in some variables.  Once comfortable with the *pdb* commands, can you come to the same conclusions as before when using the `print()` statements?\n",
        "\n"
      ],
      "metadata": {
        "id": "HnTsRFt1u15F"
      }
    },
    {
      "cell_type": "code",
      "source": [
        "import pdb\n",
        "\n",
        "def divide(num1, num2):\n",
        "    breakpoint()\n",
        "    result = num1 / num2\n",
        "    return result\n"
      ],
      "metadata": {
        "id": "0loZ1BAV-max"
      },
      "execution_count": 12,
      "outputs": []
    },
    {
      "cell_type": "code",
      "source": [
        "divide(10,2)"
      ],
      "metadata": {
        "id": "xbcMhN0m_vgh",
        "colab": {
          "base_uri": "https://localhost:8080/"
        },
        "outputId": "9c253f14-0aaa-41ad-b340-de2d96a50f2a"
      },
      "execution_count": 13,
      "outputs": [
        {
          "output_type": "stream",
          "name": "stderr",
          "text": [
            "\n",
            "PYDEV DEBUGGER WARNING:\n",
            "sys.settrace() should not be used when the debugger is being used.\n",
            "This may cause the debugger to stop working correctly.\n",
            "If this is needed, please check: \n",
            "http://pydev.blogspot.com/2007/06/why-cant-pydev-debugger-work-with.html\n",
            "to see how to restore the debug tracing back correctly.\n",
            "Call Location:\n",
            "  File \"/usr/lib/python3.10/bdb.py\", line 336, in set_trace\n",
            "    sys.settrace(self.trace_dispatch)\n",
            "\n"
          ]
        },
        {
          "name": "stdout",
          "output_type": "stream",
          "text": [
            "> \u001b[0;32m<ipython-input-12-8701cfcca903>\u001b[0m(5)\u001b[0;36mdivide\u001b[0;34m()\u001b[0m\n",
            "\u001b[0;32m      2 \u001b[0;31m\u001b[0;34m\u001b[0m\u001b[0m\n",
            "\u001b[0m\u001b[0;32m      3 \u001b[0;31m\u001b[0;32mdef\u001b[0m \u001b[0mdivide\u001b[0m\u001b[0;34m(\u001b[0m\u001b[0mnum1\u001b[0m\u001b[0;34m,\u001b[0m \u001b[0mnum2\u001b[0m\u001b[0;34m)\u001b[0m\u001b[0;34m:\u001b[0m\u001b[0;34m\u001b[0m\u001b[0;34m\u001b[0m\u001b[0m\n",
            "\u001b[0m\u001b[0;32m      4 \u001b[0;31m    \u001b[0mbreakpoint\u001b[0m\u001b[0;34m(\u001b[0m\u001b[0;34m)\u001b[0m\u001b[0;34m\u001b[0m\u001b[0;34m\u001b[0m\u001b[0m\n",
            "\u001b[0m\u001b[0;32m----> 5 \u001b[0;31m    \u001b[0mresult\u001b[0m \u001b[0;34m=\u001b[0m \u001b[0mnum1\u001b[0m \u001b[0;34m/\u001b[0m \u001b[0mnum2\u001b[0m\u001b[0;34m\u001b[0m\u001b[0;34m\u001b[0m\u001b[0m\n",
            "\u001b[0m\u001b[0;32m      6 \u001b[0;31m    \u001b[0;32mreturn\u001b[0m \u001b[0mresult\u001b[0m\u001b[0;34m\u001b[0m\u001b[0;34m\u001b[0m\u001b[0m\n",
            "\u001b[0m\n",
            "ipdb> n\n",
            "> \u001b[0;32m<ipython-input-12-8701cfcca903>\u001b[0m(6)\u001b[0;36mdivide\u001b[0;34m()\u001b[0m\n",
            "\u001b[0;32m      2 \u001b[0;31m\u001b[0;34m\u001b[0m\u001b[0m\n",
            "\u001b[0m\u001b[0;32m      3 \u001b[0;31m\u001b[0;32mdef\u001b[0m \u001b[0mdivide\u001b[0m\u001b[0;34m(\u001b[0m\u001b[0mnum1\u001b[0m\u001b[0;34m,\u001b[0m \u001b[0mnum2\u001b[0m\u001b[0;34m)\u001b[0m\u001b[0;34m:\u001b[0m\u001b[0;34m\u001b[0m\u001b[0;34m\u001b[0m\u001b[0m\n",
            "\u001b[0m\u001b[0;32m      4 \u001b[0;31m    \u001b[0mbreakpoint\u001b[0m\u001b[0;34m(\u001b[0m\u001b[0;34m)\u001b[0m\u001b[0;34m\u001b[0m\u001b[0;34m\u001b[0m\u001b[0m\n",
            "\u001b[0m\u001b[0;32m      5 \u001b[0;31m    \u001b[0mresult\u001b[0m \u001b[0;34m=\u001b[0m \u001b[0mnum1\u001b[0m \u001b[0;34m/\u001b[0m \u001b[0mnum2\u001b[0m\u001b[0;34m\u001b[0m\u001b[0;34m\u001b[0m\u001b[0m\n",
            "\u001b[0m\u001b[0;32m----> 6 \u001b[0;31m    \u001b[0;32mreturn\u001b[0m \u001b[0mresult\u001b[0m\u001b[0;34m\u001b[0m\u001b[0;34m\u001b[0m\u001b[0m\n",
            "\u001b[0m\n",
            "ipdb> p result\n",
            "5.0\n",
            "ipdb> q\n"
          ]
        },
        {
          "output_type": "stream",
          "name": "stderr",
          "text": [
            "\n",
            "PYDEV DEBUGGER WARNING:\n",
            "sys.settrace() should not be used when the debugger is being used.\n",
            "This may cause the debugger to stop working correctly.\n",
            "If this is needed, please check: \n",
            "http://pydev.blogspot.com/2007/06/why-cant-pydev-debugger-work-with.html\n",
            "to see how to restore the debug tracing back correctly.\n",
            "Call Location:\n",
            "  File \"/usr/lib/python3.10/bdb.py\", line 361, in set_quit\n",
            "    sys.settrace(None)\n",
            "\n"
          ]
        }
      ]
    },
    {
      "cell_type": "code",
      "source": [
        "def divide(num1, num2): # TODO ADD A BREAKPOINT AND INSPECT THE CODE\n",
        "    try:\n",
        "\n",
        "      print(\"num1:\", num1)\n",
        "      print(\"num2:\", num2)\n",
        "      breakpoint()\n",
        "      result = num1 / num2\n",
        "    except ZeroDivisionError:\n",
        "        print(\"Error: Cannot divide by 0\")\n",
        "        return None\n",
        "\n",
        "    print(\"result value:\", result)\n",
        "    return result"
      ],
      "metadata": {
        "id": "4417H9GCFUDx"
      },
      "execution_count": null,
      "outputs": []
    },
    {
      "cell_type": "code",
      "source": [],
      "metadata": {
        "id": "AhX6F7jrFZLi"
      },
      "execution_count": null,
      "outputs": []
    }
  ]
}