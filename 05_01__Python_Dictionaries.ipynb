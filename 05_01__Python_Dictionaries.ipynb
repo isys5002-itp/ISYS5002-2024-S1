{
  "cells": [
    {
      "cell_type": "markdown",
      "metadata": {
        "id": "view-in-github",
        "colab_type": "text"
      },
      "source": [
        "<a href=\"https://colab.research.google.com/github/isys5002-itp/ISYS5002-2024-S1/blob/main/05_01__Python_Dictionaries.ipynb\" target=\"_parent\"><img src=\"https://colab.research.google.com/assets/colab-badge.svg\" alt=\"Open In Colab\"/></a>"
      ]
    },
    {
      "cell_type": "markdown",
      "id": "e4d8cca6",
      "metadata": {
        "id": "e4d8cca6"
      },
      "source": [
        "\n",
        "# Managing Student Data with Python\n",
        "\n",
        "In this lesson, we'll explore different methods of managing student data for a course. We'll begin with a simple approach using lists and then demonstrate the power of dictionaries for more effective data management. Finally, we'll expand our data model to include not just student IDs and marks, but also names, showcasing the flexibility of dictionaries.\n"
      ]
    },
    {
      "cell_type": "markdown",
      "id": "2f8d270e",
      "metadata": {
        "id": "2f8d270e"
      },
      "source": [
        "\n",
        "## Introduction to Python Lists and Dictionaries\n",
        "\n",
        "- **Lists** are ordered collections of items that can be of mixed types. Lists are mutable, allowing modification after creation.\n",
        "- **Dictionaries** are unordered collections of key-value pairs. They allow for fast retrieval, addition, and removal of items by key.\n"
      ]
    },
    {
      "cell_type": "markdown",
      "id": "8867d81c",
      "metadata": {
        "id": "8867d81c"
      },
      "source": [
        "\n",
        "### Part 1: Storing Student Data with Lists\n",
        "\n",
        "Initially, we might consider using lists to store student IDs and their corresponding marks. Let's see how that would look.\n"
      ]
    },
    {
      "cell_type": "code",
      "execution_count": 4,
      "id": "071ce1a7",
      "metadata": {
        "id": "071ce1a7",
        "outputId": "c5b8f7be-00de-4b66-97a6-35c98e7aeb2b",
        "colab": {
          "base_uri": "https://localhost:8080/"
        }
      },
      "outputs": [
        {
          "output_type": "stream",
          "name": "stdout",
          "text": [
            "Mark of student S004: 63\n"
          ]
        }
      ],
      "source": [
        "student_ids = ['S001', 'S002', 'S003', 'S004']\n",
        "student_marks = [88, 92, 75, 63]\n",
        "\n",
        "# Accessing the mark of the second student\n",
        "print(f\"Mark of student {student_ids[len(student_ids)-1]}: {student_marks[len(student_ids)-1]}\")\n"
      ]
    },
    {
      "cell_type": "code",
      "source": [
        "student_ids = ['S001', 'S002', 'S003', 'S004']\n",
        "student_marks = [88,75, 63]\n",
        "\n",
        "# Accessing the mark of the second student\n",
        "print(f\"Mark of student {student_ids[1]}: {student_marks[1]}\")"
      ],
      "metadata": {
        "id": "ErqTpbO4pJ3E"
      },
      "id": "ErqTpbO4pJ3E",
      "execution_count": null,
      "outputs": []
    },
    {
      "cell_type": "markdown",
      "id": "5dd8067d",
      "metadata": {
        "id": "5dd8067d"
      },
      "source": [
        "\n",
        "While lists allow us to store related data, maintaining two parallel lists can be cumbersome and error-prone, especially as data grows or changes.\n"
      ]
    },
    {
      "cell_type": "markdown",
      "id": "415f8435",
      "metadata": {
        "id": "415f8435"
      },
      "source": [
        "\n",
        "## Transitioning to Dictionaries\n",
        "\n",
        "Dictionaries provide a more robust and intuitive way to link student IDs directly to their marks, eliminating the need for parallel lists.\n"
      ]
    },
    {
      "cell_type": "markdown",
      "id": "3e5014b0",
      "metadata": {
        "id": "3e5014b0"
      },
      "source": [
        "\n",
        "### Part 2: Improving with Dictionaries\n",
        "\n",
        "Now, let's reimplement our data storage using a dictionary.\n"
      ]
    },
    {
      "cell_type": "code",
      "execution_count": 8,
      "id": "bd0449d5",
      "metadata": {
        "id": "bd0449d5",
        "outputId": "66e8316e-766d-4816-c8f5-a9771e1c3f87",
        "colab": {
          "base_uri": "https://localhost:8080/"
        }
      },
      "outputs": [
        {
          "output_type": "stream",
          "name": "stdout",
          "text": [
            "Mark of student S001: 100\n"
          ]
        }
      ],
      "source": [
        "#   (key  : value)\n",
        "student_marks = {\n",
        "    'S001': 88,\n",
        "    'S002': 92,\n",
        "    'S003': 75,\n",
        "    'S004': 63,\n",
        "    'S001': 100\n",
        "}\n",
        "\n",
        "# Accessing the mark of student S002\n",
        "print(f\"Mark of student S001: {student_marks['S001']}\")\n"
      ]
    },
    {
      "cell_type": "code",
      "source": [
        "student_marks['S004'] = 75"
      ],
      "metadata": {
        "id": "249JWqF_2mGI"
      },
      "id": "249JWqF_2mGI",
      "execution_count": 27,
      "outputs": []
    },
    {
      "cell_type": "code",
      "source": [
        "print(student_marks)"
      ],
      "metadata": {
        "id": "-zslmPIB2wL4",
        "outputId": "85a6fe21-5109-41e3-da92-64dffe8c4590",
        "colab": {
          "base_uri": "https://localhost:8080/"
        }
      },
      "id": "-zslmPIB2wL4",
      "execution_count": 28,
      "outputs": [
        {
          "output_type": "stream",
          "name": "stdout",
          "text": [
            "{'S001': 100, 'S002': 92, 'S003': 75, 'S004': 75}\n"
          ]
        }
      ]
    },
    {
      "cell_type": "markdown",
      "id": "e0ac3295",
      "metadata": {
        "id": "e0ac3295"
      },
      "source": [
        "\n",
        "### Part 3: Expanding the Data Model\n",
        "\n",
        "Dictionaries aren't just limited to storing pairs of keys and values; they can store complex nested data. Let's expand our model to include student names.\n"
      ]
    },
    {
      "cell_type": "code",
      "execution_count": 10,
      "id": "bd82a7e6",
      "metadata": {
        "id": "bd82a7e6",
        "outputId": "8c9d9980-d6ab-4975-a39b-720ac718a15c",
        "colab": {
          "base_uri": "https://localhost:8080/"
        }
      },
      "outputs": [
        {
          "output_type": "stream",
          "name": "stdout",
          "text": [
            "Name: Bob, Mark: 92\n"
          ]
        }
      ],
      "source": [
        "\n",
        "student_info = {\n",
        "    'S001': {'name': 'Alice', 'mark': 88},\n",
        "    'S002': {'name': 'Bob', 'mark': 92},\n",
        "    'S003': {'name': 'Charlie', 'mark': 75},\n",
        "    'S004': {'name': 'Diana', 'mark': 63},\n",
        "    'S005': {'name': 'Gloria', 'mark': 100}\n",
        "}\n",
        "\n",
        "\n",
        "# Accessing the name and mark of student S002\n",
        "#student = student_info['S002']\n",
        "#print(f\"Name: {student['name']}, Mark: {student['mark']}\")\n"
      ]
    },
    {
      "cell_type": "code",
      "source": [
        "gloria = student_info['S005']"
      ],
      "metadata": {
        "id": "nVH6KhhG0j5_"
      },
      "id": "nVH6KhhG0j5_",
      "execution_count": 17,
      "outputs": []
    },
    {
      "cell_type": "code",
      "source": [
        "gloria.update({'mark': 99})"
      ],
      "metadata": {
        "id": "UdV__tMx02Fg"
      },
      "id": "UdV__tMx02Fg",
      "execution_count": 18,
      "outputs": []
    },
    {
      "cell_type": "code",
      "source": [
        "print(gloria['mark'])"
      ],
      "metadata": {
        "id": "3F4poCLx1C7m",
        "outputId": "ac1602f1-f0d1-47a6-8cb6-bee7b86583ba",
        "colab": {
          "base_uri": "https://localhost:8080/"
        }
      },
      "id": "3F4poCLx1C7m",
      "execution_count": 19,
      "outputs": [
        {
          "output_type": "stream",
          "name": "stdout",
          "text": [
            "99\n"
          ]
        }
      ]
    },
    {
      "cell_type": "code",
      "source": [
        "student_info['S004'].update({'mark': 70})"
      ],
      "metadata": {
        "id": "r_ds33Zy1Ylo"
      },
      "id": "r_ds33Zy1Ylo",
      "execution_count": 20,
      "outputs": []
    },
    {
      "cell_type": "code",
      "source": [
        "diana = student_info['S004']\n",
        "print(diana['mark'])"
      ],
      "metadata": {
        "id": "ysDHb8Ee1ezI",
        "outputId": "328f4caf-7b6e-4150-b5fa-6e9760d8f112",
        "colab": {
          "base_uri": "https://localhost:8080/"
        }
      },
      "id": "ysDHb8Ee1ezI",
      "execution_count": 24,
      "outputs": [
        {
          "output_type": "stream",
          "name": "stdout",
          "text": [
            "70\n"
          ]
        }
      ]
    },
    {
      "cell_type": "code",
      "source": [
        "student_info.pop('S001')"
      ],
      "metadata": {
        "id": "uO7ouPGX12BI",
        "outputId": "f0f64d27-b626-4c18-ba33-0f47c9e1b4e4",
        "colab": {
          "base_uri": "https://localhost:8080/"
        }
      },
      "id": "uO7ouPGX12BI",
      "execution_count": 25,
      "outputs": [
        {
          "output_type": "execute_result",
          "data": {
            "text/plain": [
              "{'name': 'Alice', 'mark': 88}"
            ]
          },
          "metadata": {},
          "execution_count": 25
        }
      ]
    },
    {
      "cell_type": "code",
      "source": [
        "print(student_info)"
      ],
      "metadata": {
        "id": "thcdLUtb2GO4",
        "outputId": "264bc09f-6b52-420c-b602-fe9860c1d218",
        "colab": {
          "base_uri": "https://localhost:8080/"
        }
      },
      "id": "thcdLUtb2GO4",
      "execution_count": 26,
      "outputs": [
        {
          "output_type": "stream",
          "name": "stdout",
          "text": [
            "{'S002': {'name': 'Bob', 'mark': 92}, 'S003': {'name': 'Charlie', 'mark': 75}, 'S004': {'name': 'Diana', 'mark': 70}, 'S005': {'name': 'Gloria', 'mark': 99}}\n"
          ]
        }
      ]
    },
    {
      "cell_type": "markdown",
      "id": "95302522",
      "metadata": {
        "id": "95302522"
      },
      "source": [
        "\n",
        "## Conclusion\n",
        "\n",
        "Through this lesson, we've seen how to evolve from using lists to dictionaries for managing student data, demonstrating the increased efficiency and flexibility dictionaries provide. We also explored nested dictionaries for handling more complex data structures.\n",
        "\n",
        "### Exercises\n",
        "\n",
        "1. Add a new student to the `student_info` dictionary.\n",
        "2. Update the mark for a student.\n",
        "3. Remove a student from the `student_info` dictionary.\n",
        "4. Iterate over the `student_info` dictionary to print out each student's name and mark.\n"
      ]
    },
    {
      "cell_type": "code",
      "source": [
        "grade_book = {\n",
        "    'Susan': [92, 85, 100],\n",
        "    'Eduardo': [83, 95, 79],\n",
        "    'Azizi': [91, 89, 82],\n",
        "    'Pantipa': [97, 91, 92]\n",
        "}"
      ],
      "metadata": {
        "id": "iggtrADM27uU"
      },
      "id": "iggtrADM27uU",
      "execution_count": 29,
      "outputs": []
    },
    {
      "cell_type": "code",
      "source": [
        "for name, grades in grade_book.items():\n",
        "  print(f\"{name}: {grades}\")"
      ],
      "metadata": {
        "id": "jjZH-zz43MiI",
        "outputId": "adcd20f1-68bd-4e78-da56-1202b64d0385",
        "colab": {
          "base_uri": "https://localhost:8080/"
        }
      },
      "id": "jjZH-zz43MiI",
      "execution_count": 30,
      "outputs": [
        {
          "output_type": "stream",
          "name": "stdout",
          "text": [
            "Susan: [92, 85, 100]\n",
            "Eduardo: [83, 95, 79]\n",
            "Azizi: [91, 89, 82]\n",
            "Pantipa: [97, 91, 92]\n"
          ]
        }
      ]
    }
  ],
  "metadata": {
    "colab": {
      "provenance": [],
      "include_colab_link": true
    },
    "language_info": {
      "name": "python"
    },
    "kernelspec": {
      "name": "python3",
      "display_name": "Python 3"
    }
  },
  "nbformat": 4,
  "nbformat_minor": 5
}