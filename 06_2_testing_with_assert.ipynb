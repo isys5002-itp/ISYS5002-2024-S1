{
  "nbformat": 4,
  "nbformat_minor": 0,
  "metadata": {
    "colab": {
      "provenance": [],
      "include_colab_link": true
    },
    "kernelspec": {
      "name": "python3",
      "display_name": "Python 3"
    },
    "language_info": {
      "name": "python"
    }
  },
  "cells": [
    {
      "cell_type": "markdown",
      "metadata": {
        "id": "view-in-github",
        "colab_type": "text"
      },
      "source": [
        "<a href=\"https://colab.research.google.com/github/isys5002-itp/ISYS5002-2024-S1/blob/main/06_2_testing_with_assert.ipynb\" target=\"_parent\"><img src=\"https://colab.research.google.com/assets/colab-badge.svg\" alt=\"Open In Colab\"/></a>"
      ]
    },
    {
      "cell_type": "markdown",
      "source": [
        "# Testing with assert\n",
        "\n",
        "\n",
        "    Testing leads to failure, and failure leads to understanding - Burt rutan\n",
        "\n",
        "Testing differs from debugging.  Testing is the process to find bugs and errors. Debugging is the process to correct the bugs found during programm execution or testing.\n",
        "\n",
        "In this notebook we will revisit our naive Python mathematics module to understand how to test code."
      ],
      "metadata": {
        "id": "xr1cG_-IhGrb"
      }
    },
    {
      "cell_type": "markdown",
      "source": [
        "## Python `assert` Statement\n",
        "Python has built-in `assert` statement to use assertion condition in the program. `assert` statement has a condition or expression which is supposed to be always true. If the condition is false assert halts the program and gives an `AssertionError`.\n",
        "\n",
        "Syntax for using Assert in Pyhton:<br>\n",
        "\n",
        "> `assert <condition>,<error message>`\n",
        "\n",
        "\n",
        "In Python we can use assert statement in two ways as mentioned above.\n",
        "* `assert` statement has a condition and if the condition is not satisfied the program will stop and give `AssertionError`.\n",
        "* `assert` statement can also have a condition and a optional error message. If the condition is not satisfied `assert` stops the program and gives `AssertionError` along with the error message.\n",
        "\n",
        "*source: https://www.programiz.com/python-programming/assert-statement*"
      ],
      "metadata": {
        "id": "84K9kPMkW8-M"
      }
    },
    {
      "cell_type": "code",
      "execution_count": 1,
      "metadata": {
        "id": "sVX26Ds1RTbq"
      },
      "outputs": [],
      "source": [
        "def add(x, y):\n",
        "    '''Add two numbers'''\n",
        "    return x + y"
      ]
    },
    {
      "cell_type": "code",
      "source": [
        "add (2,3)"
      ],
      "metadata": {
        "id": "TucetbmdVvlx",
        "colab": {
          "base_uri": "https://localhost:8080/"
        },
        "outputId": "ec6ab8b3-c18a-4347-a460-24d32be449df"
      },
      "execution_count": 2,
      "outputs": [
        {
          "output_type": "execute_result",
          "data": {
            "text/plain": [
              "5"
            ]
          },
          "metadata": {},
          "execution_count": 2
        }
      ]
    },
    {
      "cell_type": "code",
      "source": [
        "add(2.3, 3.2)"
      ],
      "metadata": {
        "id": "wRJFnCEbbtes",
        "colab": {
          "base_uri": "https://localhost:8080/"
        },
        "outputId": "46d49bab-0edf-495a-dae0-e5d4ef95d3ad"
      },
      "execution_count": 3,
      "outputs": [
        {
          "output_type": "execute_result",
          "data": {
            "text/plain": [
              "5.5"
            ]
          },
          "metadata": {},
          "execution_count": 3
        }
      ]
    },
    {
      "cell_type": "code",
      "source": [
        "add('2', '3')"
      ],
      "metadata": {
        "id": "y2rZzlUGbH4k",
        "colab": {
          "base_uri": "https://localhost:8080/",
          "height": 35
        },
        "outputId": "8b952d3b-7ffc-4563-cf84-7de2d38e526d"
      },
      "execution_count": 4,
      "outputs": [
        {
          "output_type": "execute_result",
          "data": {
            "text/plain": [
              "'23'"
            ],
            "application/vnd.google.colaboratory.intrinsic+json": {
              "type": "string"
            }
          },
          "metadata": {},
          "execution_count": 4
        }
      ]
    },
    {
      "cell_type": "code",
      "source": [
        "add([1,2], [2,3])"
      ],
      "metadata": {
        "id": "s5XMZTqcbosm",
        "colab": {
          "base_uri": "https://localhost:8080/"
        },
        "outputId": "062c7b87-ac04-4888-a813-cda46c51b722"
      },
      "execution_count": 5,
      "outputs": [
        {
          "output_type": "execute_result",
          "data": {
            "text/plain": [
              "[1, 2, 2, 3]"
            ]
          },
          "metadata": {},
          "execution_count": 5
        }
      ]
    },
    {
      "cell_type": "code",
      "source": [
        "#if condition returns True, then nothing happens:\n",
        "#assert <condition>,<error message>\n",
        "assert add(2, 3) == 5"
      ],
      "metadata": {
        "id": "A87FueIzX2i2"
      },
      "execution_count": 6,
      "outputs": []
    },
    {
      "cell_type": "code",
      "source": [
        "#if condition returns False, AssertionError is raised:\n",
        "assert add('2', '3') == 5"
      ],
      "metadata": {
        "id": "eeSE7zoTV9oU",
        "colab": {
          "base_uri": "https://localhost:8080/",
          "height": 159
        },
        "outputId": "b6eee5e6-d873-4dfa-e416-0ad1ed15a0b0"
      },
      "execution_count": 7,
      "outputs": [
        {
          "output_type": "error",
          "ename": "AssertionError",
          "evalue": "",
          "traceback": [
            "\u001b[0;31m---------------------------------------------------------------------------\u001b[0m",
            "\u001b[0;31mAssertionError\u001b[0m                            Traceback (most recent call last)",
            "\u001b[0;32m<ipython-input-7-88a87e6d8465>\u001b[0m in \u001b[0;36m<cell line: 2>\u001b[0;34m()\u001b[0m\n\u001b[1;32m      1\u001b[0m \u001b[0;31m#if condition returns False, AssertionError is raised:\u001b[0m\u001b[0;34m\u001b[0m\u001b[0;34m\u001b[0m\u001b[0m\n\u001b[0;32m----> 2\u001b[0;31m \u001b[0;32massert\u001b[0m \u001b[0madd\u001b[0m\u001b[0;34m(\u001b[0m\u001b[0;34m'2'\u001b[0m\u001b[0;34m,\u001b[0m \u001b[0;34m'3'\u001b[0m\u001b[0;34m)\u001b[0m \u001b[0;34m==\u001b[0m \u001b[0;36m5\u001b[0m\u001b[0;34m\u001b[0m\u001b[0;34m\u001b[0m\u001b[0m\n\u001b[0m",
            "\u001b[0;31mAssertionError\u001b[0m: "
          ]
        }
      ]
    },
    {
      "cell_type": "code",
      "source": [
        "assert add('2', '3') == '23'"
      ],
      "metadata": {
        "id": "UOBW8vcUqbXE"
      },
      "execution_count": 8,
      "outputs": []
    },
    {
      "cell_type": "markdown",
      "source": [
        "For our program, we only want numbers."
      ],
      "metadata": {
        "id": "qqxyXLO6bTj1"
      }
    },
    {
      "cell_type": "markdown",
      "source": [
        "# Test Tables\n",
        "\n",
        "Test tables are used to provide a structure to testing. Programmers will often create a table with a selection of normal, extreme and exceptional data that they intend to use during testing. The table will include: a column for the expected result. a column for what actually happens when the program runs.\n",
        "\n",
        "| Test # | Type | Data | Expected | Actual | Pass/Fail |\n",
        "|--------|------|------|----------|--------|-----------|\n",
        "|        |      |      |          |        |           |\n",
        "\n",
        "\n",
        "We would generate a table for each function we are testing.  The set of tables would test the module.  \n",
        "\n",
        "# Consider the function add()\n",
        "\n",
        "| Test # | Type    | Data     | Expected | Actual | Pass/Fail |\n",
        "|--------|---------|----------|----------|--------|-----------|\n",
        "|  1     | Valid   |0,0       | 0        |        |           |\n",
        "|  2     | Valid   |1,1       | 2        |        |           |\n",
        "|  3     | Valid   |-1,-1     | -2       |        |           |\n",
        "|  4    | Valid   |1.1,1.1   | 2.2      |        |           |\n",
        "|  5    | Valid   |-1.1,-1.1 | 2.2      |        |           |\n",
        "|  6    | Invalid |'0',0     | 'Not a number'|   |           |\n",
        "|  7    | Invalid |'One','0' | 'Not a number'|   |           |\n",
        "\n",
        "Are all of the above needed?  Do we need more? How many test do you need? Where do you stop adding tests?  Because we are reimplementing the Python ```+``` operator we probably only testing for integers,floats and is sufficient.\n",
        "\n",
        "The above are the 'obvious' addition of numbers.  But is it valid to\n",
        "add lists, or dictionaries, or strings?  What about special number like infinity?  These questions will be answered with various discussion\n",
        "with the client. Note this  could be in-house software you are developing or maintaining so the client in this case would be internal to the organisation.\n",
        "\n",
        "| Test # | Type      | Data    | Expected | Actual | Pass/Fail |\n",
        "|--------|-----------|---------|----------|--------|-----------|\n",
        "|  8    | Invalid   |[1],[1]  | 'Not a number' |  |           |\n",
        "|  9    | Invalid   |[1],[1]  | 'Not a number' |  |           |\n",
        "\n",
        "\n",
        "For the purpose of this notebook we will restrict out testing to integers and floats. So our final test table becomes\n",
        "\n",
        "| Test # | Type    | Data     | Expected | Actual | Pass/Fail |\n",
        "|--------|---------|----------|----------|--------|-----------|\n",
        "|  1     | Valid   |0,0       | 0        |        |           |\n",
        "|  2     | Valid   |1,1       | 2        |        |           |\n",
        "|  3     | Valid   |-1,-1     | -2       |        |           |\n",
        "|  4     | Valid   |1.1,1.1   | 2.2      |        |           |\n",
        "|  5     | Valid   |-1.1,-1.1 | 2.2      |        |           |\n",
        "|  6     | Invalid |'0',0     | 'Not a number'|   |           |\n",
        "|  7     | Invalid |'One','0' | 'Not a number'|   |           |\n",
        "|  8     | Invalid |[1],[1]   | 'Not a number'|   |           |\n",
        "|  9     | Invalid |{1},{1}   | 'Not a number'|   |           |\n",
        "\n",
        "\n",
        "\n",
        "# assert\n",
        "\n",
        "The `assert` keyword lets you test if a condition in your code returns True, if not, the program will raise an AssertionError.  The condition to be tested comes from the test table.\n",
        "\n",
        "As you test your code, you may end up modifying the code to pass valid tests.\n"
      ],
      "metadata": {
        "id": "Ouf_I-wOkLW_"
      }
    },
    {
      "cell_type": "code",
      "source": [
        "assert add(0,0) == 0"
      ],
      "metadata": {
        "id": "UENmOGQySf-H"
      },
      "execution_count": 9,
      "outputs": []
    },
    {
      "cell_type": "markdown",
      "source": [
        "Add more test cases"
      ],
      "metadata": {
        "id": "1hVXDoehv31g"
      }
    },
    {
      "cell_type": "code",
      "source": [
        "#add test cases 1 to 5\n",
        "assert add(1.1,1.1) == 2.2"
      ],
      "metadata": {
        "id": "xtH5pkEvqZNM"
      },
      "execution_count": 10,
      "outputs": []
    },
    {
      "cell_type": "markdown",
      "source": [
        "What about some invalid tests?"
      ],
      "metadata": {
        "id": "KzrU429jxOV_"
      }
    },
    {
      "cell_type": "code",
      "source": [
        "#add test case 6\n",
        "\n",
        "assert add('0', 0) == 'Not a number'"
      ],
      "metadata": {
        "id": "yOKccP7iwWgM",
        "colab": {
          "base_uri": "https://localhost:8080/",
          "height": 263
        },
        "outputId": "3299453e-d1d7-4bf5-fdc1-6b387c738a0d"
      },
      "execution_count": 11,
      "outputs": [
        {
          "output_type": "error",
          "ename": "TypeError",
          "evalue": "can only concatenate str (not \"int\") to str",
          "traceback": [
            "\u001b[0;31m---------------------------------------------------------------------------\u001b[0m",
            "\u001b[0;31mTypeError\u001b[0m                                 Traceback (most recent call last)",
            "\u001b[0;32m<ipython-input-11-7ccbddb386d4>\u001b[0m in \u001b[0;36m<cell line: 3>\u001b[0;34m()\u001b[0m\n\u001b[1;32m      1\u001b[0m \u001b[0;31m#add test case 6\u001b[0m\u001b[0;34m\u001b[0m\u001b[0;34m\u001b[0m\u001b[0m\n\u001b[1;32m      2\u001b[0m \u001b[0;34m\u001b[0m\u001b[0m\n\u001b[0;32m----> 3\u001b[0;31m \u001b[0;32massert\u001b[0m \u001b[0madd\u001b[0m\u001b[0;34m(\u001b[0m\u001b[0;34m'0'\u001b[0m\u001b[0;34m,\u001b[0m \u001b[0;36m0\u001b[0m\u001b[0;34m)\u001b[0m \u001b[0;34m==\u001b[0m \u001b[0;34m'Not a number'\u001b[0m\u001b[0;34m\u001b[0m\u001b[0;34m\u001b[0m\u001b[0m\n\u001b[0m",
            "\u001b[0;32m<ipython-input-1-8898c8eabe2b>\u001b[0m in \u001b[0;36madd\u001b[0;34m(x, y)\u001b[0m\n\u001b[1;32m      1\u001b[0m \u001b[0;32mdef\u001b[0m \u001b[0madd\u001b[0m\u001b[0;34m(\u001b[0m\u001b[0mx\u001b[0m\u001b[0;34m,\u001b[0m \u001b[0my\u001b[0m\u001b[0;34m)\u001b[0m\u001b[0;34m:\u001b[0m\u001b[0;34m\u001b[0m\u001b[0;34m\u001b[0m\u001b[0m\n\u001b[1;32m      2\u001b[0m     \u001b[0;34m'''Add two numbers'''\u001b[0m\u001b[0;34m\u001b[0m\u001b[0;34m\u001b[0m\u001b[0m\n\u001b[0;32m----> 3\u001b[0;31m     \u001b[0;32mreturn\u001b[0m \u001b[0mx\u001b[0m \u001b[0;34m+\u001b[0m \u001b[0my\u001b[0m\u001b[0;34m\u001b[0m\u001b[0;34m\u001b[0m\u001b[0m\n\u001b[0m",
            "\u001b[0;31mTypeError\u001b[0m: can only concatenate str (not \"int\") to str"
          ]
        }
      ]
    },
    {
      "cell_type": "markdown",
      "source": [
        "The invalid test cases failed.\n",
        "\n",
        "Let's update add() to handle the case of string.  We have a couple of strategies, we can test for a string, or test for a number.  Given we don't want to have our function to add lists etc, let's choose to test for numbers."
      ],
      "metadata": {
        "id": "XRyu5uS8xbzB"
      }
    },
    {
      "cell_type": "code",
      "source": [
        "def add(x, y):\n",
        "    '''Add two numbers'''\n",
        "    if((type(x) == int or type(x) == float) and\n",
        "       (type(y) == int or type(y) == float)):\n",
        "      return x + y\n",
        "    return 'Not a number'"
      ],
      "metadata": {
        "id": "lNPjUrOuwZzg"
      },
      "execution_count": 12,
      "outputs": []
    },
    {
      "cell_type": "code",
      "source": [
        "assert add('0', 0) == 'Not a number'"
      ],
      "metadata": {
        "id": "NO3JnTH7k9NF"
      },
      "execution_count": 13,
      "outputs": []
    },
    {
      "cell_type": "markdown",
      "source": [
        "Let's add an assertion test to verify that the updated `add()` function correctly handles the case where at least one of the inputs is not a valid number and returns `'Not a number'` as expected."
      ],
      "metadata": {
        "id": "Orbky2XfsDLp"
      }
    },
    {
      "cell_type": "code",
      "source": [],
      "metadata": {
        "id": "yCgWgemHsbdw"
      },
      "execution_count": null,
      "outputs": []
    },
    {
      "cell_type": "markdown",
      "source": [
        "The `if` statement is a bit confusing, let's write a function to check if something is a number"
      ],
      "metadata": {
        "id": "6S5bu1PD2gcu"
      }
    },
    {
      "cell_type": "code",
      "source": [
        "def isNumber(a):\n",
        "  return (type(a) == int or type(a) == float)"
      ],
      "metadata": {
        "id": "wtQTUAOlyedj"
      },
      "execution_count": 14,
      "outputs": []
    },
    {
      "cell_type": "code",
      "source": [
        "def add(x, y):\n",
        "    '''Add two numbers'''\n",
        "    if isNumber(x) and isNumber(y) :\n",
        "      return x + y\n",
        "    return 'Not a number'"
      ],
      "metadata": {
        "id": "puiPdMKh1a2P"
      },
      "execution_count": 15,
      "outputs": []
    },
    {
      "cell_type": "code",
      "source": [
        "assert add(1.0, '1') == 'Not a number'"
      ],
      "metadata": {
        "id": "g94t_0JtmTgo"
      },
      "execution_count": 16,
      "outputs": []
    },
    {
      "cell_type": "markdown",
      "source": [
        "So our final set of assert statements becomes:"
      ],
      "metadata": {
        "id": "ymCFCSTB5pOP"
      }
    },
    {
      "cell_type": "code",
      "source": [
        "assert add(0,0) == 0\n",
        "assert add(1,1) == 2\n",
        "assert add(-1,-1) == -2\n",
        "assert add(1.1,1.1) == 2.2\n",
        "assert add(-1.1,-1.1) == -2.2\n",
        "assert add('0',0) == 'Not a number'\n",
        "assert add('One','0') == 'Not a number'\n",
        "assert add([1],[1]) == 'Not a number'\n",
        "assert add({1},{1}) == 'Not a number'"
      ],
      "metadata": {
        "id": "TjnOIztQ3geO"
      },
      "execution_count": null,
      "outputs": []
    },
    {
      "cell_type": "markdown",
      "source": [
        "### you could write test cases for the add() function using assert:"
      ],
      "metadata": {
        "id": "ylGjM5xEd2uf"
      }
    },
    {
      "cell_type": "code",
      "source": [
        "def test_add():\n",
        "\n",
        "  # Valid test cases\n",
        "  assert add(0,0) == 0\n",
        "  assert add(1,1) == 2\n",
        "  assert add(-1,-1) == -2\n",
        "  assert add(1.1,1.1) == 2.2\n",
        "  assert add(-1.1,-1.1) == -2.2\n",
        "\n",
        "  # Inavlid test cases\n",
        "  assert add('0',0) == 'Not a number'\n",
        "  assert add('One','0') == 'Not a number'\n",
        "  assert add([1],[1]) == 'Not a number'\n",
        "  assert add({1},{1}) == 'Not a number'\n"
      ],
      "metadata": {
        "id": "MWF8CKNsd0m9"
      },
      "execution_count": 17,
      "outputs": []
    },
    {
      "cell_type": "code",
      "source": [
        "test_add()"
      ],
      "metadata": {
        "id": "_U1ytHf0eAhN"
      },
      "execution_count": 18,
      "outputs": []
    },
    {
      "cell_type": "markdown",
      "source": [
        "In this test function, each assert statement tests whether the result of calling `add()` with a specific set of arguments matches the expected result. If the result doesn't match the expectation, an AssertionError is raised, indicating that the test has failed.\n",
        "\n",
        "You would run the `test_add()` function to execute all the test cases and verify that the `add()` function is behaving as expected.\n",
        "\n",
        "You can also run the `test_add()` function using a testing framework such as `pytest` to see which tests pass and which tests fail."
      ],
      "metadata": {
        "id": "aI1lQNGDd-R8"
      }
    },
    {
      "cell_type": "markdown",
      "source": [
        "### Testing framework `pytest`\n",
        "\n",
        "Pytest is a testing framework for Python. It allows you to write tests for your code in a simple and easy-to-read format, and provides features for debugging, reporting, and managing your tests.\n",
        "\n",
        "You can use pytest in a notebook by installing the ipytest package. ipytest is a plugin for running pytest tests in IPython and Jupyter notebooks.\n",
        "\n"
      ],
      "metadata": {
        "id": "TYY4W5oht9sK"
      }
    },
    {
      "cell_type": "code",
      "source": [
        "# install the necessary packages\n",
        "\n",
        "!pip install pytest ipytest"
      ],
      "metadata": {
        "id": "iOe3q7hTvwVU",
        "colab": {
          "base_uri": "https://localhost:8080/"
        },
        "outputId": "cb9333c4-358c-4309-8b9d-4e0edbba4ff6"
      },
      "execution_count": 19,
      "outputs": [
        {
          "output_type": "stream",
          "name": "stdout",
          "text": [
            "Requirement already satisfied: pytest in /usr/local/lib/python3.10/dist-packages (7.4.4)\n",
            "Collecting ipytest\n",
            "  Downloading ipytest-0.14.0-py3-none-any.whl (14 kB)\n",
            "Requirement already satisfied: iniconfig in /usr/local/lib/python3.10/dist-packages (from pytest) (2.0.0)\n",
            "Requirement already satisfied: packaging in /usr/local/lib/python3.10/dist-packages (from pytest) (24.0)\n",
            "Requirement already satisfied: pluggy<2.0,>=0.12 in /usr/local/lib/python3.10/dist-packages (from pytest) (1.4.0)\n",
            "Requirement already satisfied: exceptiongroup>=1.0.0rc8 in /usr/local/lib/python3.10/dist-packages (from pytest) (1.2.0)\n",
            "Requirement already satisfied: tomli>=1.0.0 in /usr/local/lib/python3.10/dist-packages (from pytest) (2.0.1)\n",
            "Requirement already satisfied: ipython in /usr/local/lib/python3.10/dist-packages (from ipytest) (7.34.0)\n",
            "Requirement already satisfied: setuptools>=18.5 in /usr/local/lib/python3.10/dist-packages (from ipython->ipytest) (67.7.2)\n",
            "Collecting jedi>=0.16 (from ipython->ipytest)\n",
            "  Downloading jedi-0.19.1-py2.py3-none-any.whl (1.6 MB)\n",
            "\u001b[2K     \u001b[90m━━━━━━━━━━━━━━━━━━━━━━━━━━━━━━━━━━━━━━━━\u001b[0m \u001b[32m1.6/1.6 MB\u001b[0m \u001b[31m12.9 MB/s\u001b[0m eta \u001b[36m0:00:00\u001b[0m\n",
            "\u001b[?25hRequirement already satisfied: decorator in /usr/local/lib/python3.10/dist-packages (from ipython->ipytest) (4.4.2)\n",
            "Requirement already satisfied: pickleshare in /usr/local/lib/python3.10/dist-packages (from ipython->ipytest) (0.7.5)\n",
            "Requirement already satisfied: traitlets>=4.2 in /usr/local/lib/python3.10/dist-packages (from ipython->ipytest) (5.7.1)\n",
            "Requirement already satisfied: prompt-toolkit!=3.0.0,!=3.0.1,<3.1.0,>=2.0.0 in /usr/local/lib/python3.10/dist-packages (from ipython->ipytest) (3.0.43)\n",
            "Requirement already satisfied: pygments in /usr/local/lib/python3.10/dist-packages (from ipython->ipytest) (2.16.1)\n",
            "Requirement already satisfied: backcall in /usr/local/lib/python3.10/dist-packages (from ipython->ipytest) (0.2.0)\n",
            "Requirement already satisfied: matplotlib-inline in /usr/local/lib/python3.10/dist-packages (from ipython->ipytest) (0.1.6)\n",
            "Requirement already satisfied: pexpect>4.3 in /usr/local/lib/python3.10/dist-packages (from ipython->ipytest) (4.9.0)\n",
            "Requirement already satisfied: parso<0.9.0,>=0.8.3 in /usr/local/lib/python3.10/dist-packages (from jedi>=0.16->ipython->ipytest) (0.8.3)\n",
            "Requirement already satisfied: ptyprocess>=0.5 in /usr/local/lib/python3.10/dist-packages (from pexpect>4.3->ipython->ipytest) (0.7.0)\n",
            "Requirement already satisfied: wcwidth in /usr/local/lib/python3.10/dist-packages (from prompt-toolkit!=3.0.0,!=3.0.1,<3.1.0,>=2.0.0->ipython->ipytest) (0.2.13)\n",
            "Installing collected packages: jedi, ipytest\n",
            "Successfully installed ipytest-0.14.0 jedi-0.19.1\n"
          ]
        }
      ]
    },
    {
      "cell_type": "code",
      "source": [
        "# Define your test functions using the pytest syntax\n",
        "def test_add():\n",
        "\n",
        "  # Valid test cases\n",
        "  assert add(0,0) == 0\n",
        "  assert add(1,1) == 2\n",
        "  assert add(-1,-1) == -2\n",
        "  assert add(1.1,1.1) == 2.2\n",
        "  assert add(-1.1,-1.1) == -2.2\n",
        "\n",
        "  # Inavlid test cases\n",
        "  assert add('0',0) == 'Not a number'\n",
        "  assert add('One','0') == 'Not a number'\n",
        "  assert add([1],[1]) == 'Not a number'\n",
        "  assert add({1},{1}) == 'Not a number'\n",
        "\n"
      ],
      "metadata": {
        "id": "mwI2zBjKv_pl"
      },
      "execution_count": 20,
      "outputs": []
    },
    {
      "cell_type": "code",
      "source": [
        "# import the necessary modules\n",
        "import ipytest\n",
        "import pytest\n",
        "\n",
        "# run the tests using ipytest\n",
        "ipytest.run()"
      ],
      "metadata": {
        "id": "6afIUsunvyif",
        "colab": {
          "base_uri": "https://localhost:8080/"
        },
        "outputId": "126366b3-a028-449b-a893-c35004190de7"
      },
      "execution_count": 21,
      "outputs": [
        {
          "output_type": "stream",
          "name": "stdout",
          "text": [
            "======================================= test session starts ========================================\n",
            "platform linux -- Python 3.10.12, pytest-7.4.4, pluggy-1.4.0\n",
            "rootdir: /content\n",
            "plugins: anyio-3.7.1\n",
            "collected 1 item\n",
            "\n",
            "t_8449fa1dd58148e9982c01c19188b104.py .                                                      [100%]\n",
            "\n",
            "======================================== 1 passed in 0.02s =========================================\n"
          ]
        },
        {
          "output_type": "execute_result",
          "data": {
            "text/plain": [
              "<ExitCode.OK: 0>"
            ]
          },
          "metadata": {},
          "execution_count": 21
        }
      ]
    }
  ]
}