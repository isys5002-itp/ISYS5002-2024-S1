{
  "nbformat": 4,
  "nbformat_minor": 0,
  "metadata": {
    "colab": {
      "provenance": [],
      "collapsed_sections": [
        "GiOCN838rjEw"
      ],
      "include_colab_link": true
    },
    "kernelspec": {
      "name": "python3",
      "display_name": "Python 3"
    },
    "language_info": {
      "name": "python"
    }
  },
  "cells": [
    {
      "cell_type": "markdown",
      "metadata": {
        "id": "view-in-github",
        "colab_type": "text"
      },
      "source": [
        "<a href=\"https://colab.research.google.com/github/isys5002-itp/ISYS5002-2024-S1/blob/main/11_3_superheroes_business_report_using_GUI.ipynb\" target=\"_parent\"><img src=\"https://colab.research.google.com/assets/colab-badge.svg\" alt=\"Open In Colab\"/></a>"
      ]
    },
    {
      "cell_type": "markdown",
      "source": [
        "# Superheroes Business Report Notebook\n",
        "This notebook is a **basic** example of how you could structure your Business report notebook for your assignment."
      ],
      "metadata": {
        "id": "LFT2rMfmSnh8"
      }
    },
    {
      "cell_type": "markdown",
      "source": [
        "**Overview**\n",
        "\n",
        "Superheroes, as iconic figures in popular culture, present a compelling area for exploration. We seek to investigate the interplay between superheroes' gender and alignment, aiming to uncover potential gender-related patterns in their characterization as \"Good\" or \"Evil.\" This analysis is driven by the need to better understand how diverse identities are represented in the superhero genre and the broader implications for societal perceptions."
      ],
      "metadata": {
        "id": "UTT5ipAqVfrH"
      }
    },
    {
      "cell_type": "markdown",
      "source": [
        "**Problem solving methodology**\n",
        "1. State the problem clearly\n",
        "2. Describe the input and output information\n",
        "3. Work the problem by hand\n",
        "4. Develop an algorithm\n",
        "5. Convert algorithm/psedocode in to python code\n",
        "6. Test solution with a variety of data"
      ],
      "metadata": {
        "id": "SU-caq2OVlpI"
      }
    },
    {
      "cell_type": "markdown",
      "source": [
        "## Problem statement\n",
        "Superheroes, as iconic figures in popular culture, present a compelling area for exploration. We seek to investigate the interplay between superheroes' gender and alignment, aiming to uncover potential gender-related patterns in their characterization as \"Good\" or \"Evil.\" This analysis is driven by the need to better understand how diverse identities are represented in the superhero genre and the broader implications for societal perceptions.\n",
        "\n",
        "This analysis aims to determine whether there are discernible connections between the gender of superheroes and their alignment as \"Good\" or \"Evil.\" By collecting and analyzing dataset provided, we will investigate whether particular genders are more frequently associated with being \"Good\" or \"Evil\" superheroes. This exploration will provide insights into representation within the superhero genre, offering valuable contributions to media and gender studies."
      ],
      "metadata": {
        "id": "vtwf2EPfZy3K"
      }
    },
    {
      "cell_type": "markdown",
      "source": [
        "## Inputs and Outputs Analysis\n",
        "\n",
        "### Inputs for Analysis:\n",
        "Superheroes dataset as SQLite database\n",
        "\n",
        "\n",
        "### Outputs:\n",
        "\n",
        "#### Data Analysis 1: Exploring the superheros by gender and alignment.\n",
        "* a) Analysing the distribution of superheroes based on their gender\n",
        "* b) Analysing the distribution of superheroes based on their alignment\n",
        "\n",
        "#### Data Analysis 2: Exploring the relationship between gender and alignment among superheroes.\n",
        "\n",
        "* a) Superhero Alignment Distribution by Gender Analysis\n",
        "* b) Analysing the superheroes gender distribution by Alignment"
      ],
      "metadata": {
        "id": "N3YM-czBaUFS"
      }
    },
    {
      "cell_type": "markdown",
      "source": [
        "## Example Data and Analysis (Work the problem by Hand)\n",
        "\n",
        "id | last_name | first_name | superhero      | gender | alignment\n",
        "---|-----------|------------|----------------|--------|-----------\n",
        "0  | 14        | Quinzel    | Harley         | Female | Evil\n",
        "1  | 15        | Kyle       | Selina         | Female | Evil\n",
        "2  | 16        | Darkholme  | Mystique       | Female | Unknown\n",
        "3  | 18        | Ivy        | Poison         | Female | Evil\n",
        "4  | 19        | Moone      | Enchantress    | Female | Evil\n",
        "\n",
        "\n",
        "Based on the sample data above,\n",
        "* All females with all Evil alignment\n",
        "* All Evil superheores are females\n",
        "\n",
        "\n"
      ],
      "metadata": {
        "id": "wK5j36JJeJKT"
      }
    },
    {
      "cell_type": "markdown",
      "source": [
        "## Design - Algorithm\n",
        "\n",
        "\n",
        "**!!! Example Only - can be expended with details !!!**\n",
        "\n",
        "**Refer to the Calculator program**\n",
        "\n",
        "1. Create connection to the SQLite database.\n",
        "2. Loads the 'superheroes' table into a Pandas DataFrame.\n",
        "3. Performs data exploration, including displaying the first few rows, checking for duplicates, and handling missing values.\n",
        "4. Analysis 1: Exploring superheroes gender and alignment using bar charts and pie charts.\n",
        "5. Analysis 2: Exploring the distribution of superheroes by gender and alignment using bar charts.\n",
        "5. Closes the database connection."
      ],
      "metadata": {
        "id": "0FTswXwvvfMA"
      }
    },
    {
      "cell_type": "markdown",
      "source": [
        "**Final Design - pseudocode?**\n",
        "\n",
        "Refer to the Calculator program"
      ],
      "metadata": {
        "id": "Jd5YM1ewv7t5"
      }
    },
    {
      "cell_type": "markdown",
      "source": [
        "## Create connection to database\n",
        "**import libraries and load dataset**"
      ],
      "metadata": {
        "id": "ZTTv0ubq0yfQ"
      }
    },
    {
      "cell_type": "code",
      "source": [
        "import sqlite3\n",
        "connection = sqlite3.connect('superheroes.db')\n",
        "cursor = connection.cursor()\n",
        "\n",
        "# inspect the database schema and tables\n",
        "sql='''\n",
        "SELECT name FROM sqlite_master WHERE type='table';\n",
        "'''\n",
        "cursor.execute(sql)\n",
        "cursor.fetchall()\n"
      ],
      "metadata": {
        "colab": {
          "base_uri": "https://localhost:8080/"
        },
        "id": "DIFv2sKN04mc",
        "outputId": "52b4621c-17da-4d0c-cec9-88b32e777831"
      },
      "execution_count": 1,
      "outputs": [
        {
          "output_type": "execute_result",
          "data": {
            "text/plain": [
              "[('your_table',), ('superheroes',)]"
            ]
          },
          "metadata": {},
          "execution_count": 1
        }
      ]
    },
    {
      "cell_type": "code",
      "source": [
        "sql='''\n",
        "PRAGMA table_info('superheroes');\n",
        "'''\n",
        "cursor.execute(sql)\n",
        "cursor.fetchall()"
      ],
      "metadata": {
        "colab": {
          "base_uri": "https://localhost:8080/"
        },
        "id": "a6QK18911Bni",
        "outputId": "85a40a9b-8b7e-4df4-d3b9-ff360d4f93bc"
      },
      "execution_count": 2,
      "outputs": [
        {
          "output_type": "execute_result",
          "data": {
            "text/plain": [
              "[(0, 'id', 'INTEGER', 0, None, 0),\n",
              " (1, 'last_name', 'TEXT', 0, None, 0),\n",
              " (2, 'first_name', 'TEXT', 0, None, 0),\n",
              " (3, 'superhero', 'TEXT', 0, None, 0),\n",
              " (4, 'gender', 'TEXT', 0, None, 0),\n",
              " (5, 'alignment', 'TEXT', 0, None, 0)]"
            ]
          },
          "metadata": {},
          "execution_count": 2
        }
      ]
    },
    {
      "cell_type": "code",
      "source": [
        "import pandas as pd\n",
        "\n",
        "sql='''\n",
        "SELECT * from superheroes;\n",
        "'''\n",
        "# Load the data into a DataFrame\n",
        "superheroes_df = pd.read_sql_query(sql, connection)"
      ],
      "metadata": {
        "id": "1n419tan1Ud7"
      },
      "execution_count": 3,
      "outputs": []
    },
    {
      "cell_type": "code",
      "source": [
        "superheroes_df.head()"
      ],
      "metadata": {
        "colab": {
          "base_uri": "https://localhost:8080/",
          "height": 206
        },
        "id": "ZPJe3LF31g4E",
        "outputId": "45f62203-9998-4060-85f5-e1c420c12674"
      },
      "execution_count": 4,
      "outputs": [
        {
          "output_type": "execute_result",
          "data": {
            "text/plain": [
              "   id last_name first_name      superhero  gender alignment\n",
              "0   1      Kent      Clark       Superman    Male      Good\n",
              "1   2    Prince      Diana   Wonder Woman  Female      Good\n",
              "2   3     Wayne      Bruce         Batman    Male      Good\n",
              "3   4     Curry     Arthur        Aquaman    Male      Good\n",
              "4   5  Maximoff      Wanda  Scarlet Witch  Female      Good"
            ],
            "text/html": [
              "\n",
              "  <div id=\"df-67a112b2-a03e-416c-886f-57c3416b1933\" class=\"colab-df-container\">\n",
              "    <div>\n",
              "<style scoped>\n",
              "    .dataframe tbody tr th:only-of-type {\n",
              "        vertical-align: middle;\n",
              "    }\n",
              "\n",
              "    .dataframe tbody tr th {\n",
              "        vertical-align: top;\n",
              "    }\n",
              "\n",
              "    .dataframe thead th {\n",
              "        text-align: right;\n",
              "    }\n",
              "</style>\n",
              "<table border=\"1\" class=\"dataframe\">\n",
              "  <thead>\n",
              "    <tr style=\"text-align: right;\">\n",
              "      <th></th>\n",
              "      <th>id</th>\n",
              "      <th>last_name</th>\n",
              "      <th>first_name</th>\n",
              "      <th>superhero</th>\n",
              "      <th>gender</th>\n",
              "      <th>alignment</th>\n",
              "    </tr>\n",
              "  </thead>\n",
              "  <tbody>\n",
              "    <tr>\n",
              "      <th>0</th>\n",
              "      <td>1</td>\n",
              "      <td>Kent</td>\n",
              "      <td>Clark</td>\n",
              "      <td>Superman</td>\n",
              "      <td>Male</td>\n",
              "      <td>Good</td>\n",
              "    </tr>\n",
              "    <tr>\n",
              "      <th>1</th>\n",
              "      <td>2</td>\n",
              "      <td>Prince</td>\n",
              "      <td>Diana</td>\n",
              "      <td>Wonder Woman</td>\n",
              "      <td>Female</td>\n",
              "      <td>Good</td>\n",
              "    </tr>\n",
              "    <tr>\n",
              "      <th>2</th>\n",
              "      <td>3</td>\n",
              "      <td>Wayne</td>\n",
              "      <td>Bruce</td>\n",
              "      <td>Batman</td>\n",
              "      <td>Male</td>\n",
              "      <td>Good</td>\n",
              "    </tr>\n",
              "    <tr>\n",
              "      <th>3</th>\n",
              "      <td>4</td>\n",
              "      <td>Curry</td>\n",
              "      <td>Arthur</td>\n",
              "      <td>Aquaman</td>\n",
              "      <td>Male</td>\n",
              "      <td>Good</td>\n",
              "    </tr>\n",
              "    <tr>\n",
              "      <th>4</th>\n",
              "      <td>5</td>\n",
              "      <td>Maximoff</td>\n",
              "      <td>Wanda</td>\n",
              "      <td>Scarlet Witch</td>\n",
              "      <td>Female</td>\n",
              "      <td>Good</td>\n",
              "    </tr>\n",
              "  </tbody>\n",
              "</table>\n",
              "</div>\n",
              "    <div class=\"colab-df-buttons\">\n",
              "\n",
              "  <div class=\"colab-df-container\">\n",
              "    <button class=\"colab-df-convert\" onclick=\"convertToInteractive('df-67a112b2-a03e-416c-886f-57c3416b1933')\"\n",
              "            title=\"Convert this dataframe to an interactive table.\"\n",
              "            style=\"display:none;\">\n",
              "\n",
              "  <svg xmlns=\"http://www.w3.org/2000/svg\" height=\"24px\" viewBox=\"0 -960 960 960\">\n",
              "    <path d=\"M120-120v-720h720v720H120Zm60-500h600v-160H180v160Zm220 220h160v-160H400v160Zm0 220h160v-160H400v160ZM180-400h160v-160H180v160Zm440 0h160v-160H620v160ZM180-180h160v-160H180v160Zm440 0h160v-160H620v160Z\"/>\n",
              "  </svg>\n",
              "    </button>\n",
              "\n",
              "  <style>\n",
              "    .colab-df-container {\n",
              "      display:flex;\n",
              "      gap: 12px;\n",
              "    }\n",
              "\n",
              "    .colab-df-convert {\n",
              "      background-color: #E8F0FE;\n",
              "      border: none;\n",
              "      border-radius: 50%;\n",
              "      cursor: pointer;\n",
              "      display: none;\n",
              "      fill: #1967D2;\n",
              "      height: 32px;\n",
              "      padding: 0 0 0 0;\n",
              "      width: 32px;\n",
              "    }\n",
              "\n",
              "    .colab-df-convert:hover {\n",
              "      background-color: #E2EBFA;\n",
              "      box-shadow: 0px 1px 2px rgba(60, 64, 67, 0.3), 0px 1px 3px 1px rgba(60, 64, 67, 0.15);\n",
              "      fill: #174EA6;\n",
              "    }\n",
              "\n",
              "    .colab-df-buttons div {\n",
              "      margin-bottom: 4px;\n",
              "    }\n",
              "\n",
              "    [theme=dark] .colab-df-convert {\n",
              "      background-color: #3B4455;\n",
              "      fill: #D2E3FC;\n",
              "    }\n",
              "\n",
              "    [theme=dark] .colab-df-convert:hover {\n",
              "      background-color: #434B5C;\n",
              "      box-shadow: 0px 1px 3px 1px rgba(0, 0, 0, 0.15);\n",
              "      filter: drop-shadow(0px 1px 2px rgba(0, 0, 0, 0.3));\n",
              "      fill: #FFFFFF;\n",
              "    }\n",
              "  </style>\n",
              "\n",
              "    <script>\n",
              "      const buttonEl =\n",
              "        document.querySelector('#df-67a112b2-a03e-416c-886f-57c3416b1933 button.colab-df-convert');\n",
              "      buttonEl.style.display =\n",
              "        google.colab.kernel.accessAllowed ? 'block' : 'none';\n",
              "\n",
              "      async function convertToInteractive(key) {\n",
              "        const element = document.querySelector('#df-67a112b2-a03e-416c-886f-57c3416b1933');\n",
              "        const dataTable =\n",
              "          await google.colab.kernel.invokeFunction('convertToInteractive',\n",
              "                                                    [key], {});\n",
              "        if (!dataTable) return;\n",
              "\n",
              "        const docLinkHtml = 'Like what you see? Visit the ' +\n",
              "          '<a target=\"_blank\" href=https://colab.research.google.com/notebooks/data_table.ipynb>data table notebook</a>'\n",
              "          + ' to learn more about interactive tables.';\n",
              "        element.innerHTML = '';\n",
              "        dataTable['output_type'] = 'display_data';\n",
              "        await google.colab.output.renderOutput(dataTable, element);\n",
              "        const docLink = document.createElement('div');\n",
              "        docLink.innerHTML = docLinkHtml;\n",
              "        element.appendChild(docLink);\n",
              "      }\n",
              "    </script>\n",
              "  </div>\n",
              "\n",
              "\n",
              "<div id=\"df-e84e454d-8e30-47ca-9c64-55e8d1f240ac\">\n",
              "  <button class=\"colab-df-quickchart\" onclick=\"quickchart('df-e84e454d-8e30-47ca-9c64-55e8d1f240ac')\"\n",
              "            title=\"Suggest charts\"\n",
              "            style=\"display:none;\">\n",
              "\n",
              "<svg xmlns=\"http://www.w3.org/2000/svg\" height=\"24px\"viewBox=\"0 0 24 24\"\n",
              "     width=\"24px\">\n",
              "    <g>\n",
              "        <path d=\"M19 3H5c-1.1 0-2 .9-2 2v14c0 1.1.9 2 2 2h14c1.1 0 2-.9 2-2V5c0-1.1-.9-2-2-2zM9 17H7v-7h2v7zm4 0h-2V7h2v10zm4 0h-2v-4h2v4z\"/>\n",
              "    </g>\n",
              "</svg>\n",
              "  </button>\n",
              "\n",
              "<style>\n",
              "  .colab-df-quickchart {\n",
              "      --bg-color: #E8F0FE;\n",
              "      --fill-color: #1967D2;\n",
              "      --hover-bg-color: #E2EBFA;\n",
              "      --hover-fill-color: #174EA6;\n",
              "      --disabled-fill-color: #AAA;\n",
              "      --disabled-bg-color: #DDD;\n",
              "  }\n",
              "\n",
              "  [theme=dark] .colab-df-quickchart {\n",
              "      --bg-color: #3B4455;\n",
              "      --fill-color: #D2E3FC;\n",
              "      --hover-bg-color: #434B5C;\n",
              "      --hover-fill-color: #FFFFFF;\n",
              "      --disabled-bg-color: #3B4455;\n",
              "      --disabled-fill-color: #666;\n",
              "  }\n",
              "\n",
              "  .colab-df-quickchart {\n",
              "    background-color: var(--bg-color);\n",
              "    border: none;\n",
              "    border-radius: 50%;\n",
              "    cursor: pointer;\n",
              "    display: none;\n",
              "    fill: var(--fill-color);\n",
              "    height: 32px;\n",
              "    padding: 0;\n",
              "    width: 32px;\n",
              "  }\n",
              "\n",
              "  .colab-df-quickchart:hover {\n",
              "    background-color: var(--hover-bg-color);\n",
              "    box-shadow: 0 1px 2px rgba(60, 64, 67, 0.3), 0 1px 3px 1px rgba(60, 64, 67, 0.15);\n",
              "    fill: var(--button-hover-fill-color);\n",
              "  }\n",
              "\n",
              "  .colab-df-quickchart-complete:disabled,\n",
              "  .colab-df-quickchart-complete:disabled:hover {\n",
              "    background-color: var(--disabled-bg-color);\n",
              "    fill: var(--disabled-fill-color);\n",
              "    box-shadow: none;\n",
              "  }\n",
              "\n",
              "  .colab-df-spinner {\n",
              "    border: 2px solid var(--fill-color);\n",
              "    border-color: transparent;\n",
              "    border-bottom-color: var(--fill-color);\n",
              "    animation:\n",
              "      spin 1s steps(1) infinite;\n",
              "  }\n",
              "\n",
              "  @keyframes spin {\n",
              "    0% {\n",
              "      border-color: transparent;\n",
              "      border-bottom-color: var(--fill-color);\n",
              "      border-left-color: var(--fill-color);\n",
              "    }\n",
              "    20% {\n",
              "      border-color: transparent;\n",
              "      border-left-color: var(--fill-color);\n",
              "      border-top-color: var(--fill-color);\n",
              "    }\n",
              "    30% {\n",
              "      border-color: transparent;\n",
              "      border-left-color: var(--fill-color);\n",
              "      border-top-color: var(--fill-color);\n",
              "      border-right-color: var(--fill-color);\n",
              "    }\n",
              "    40% {\n",
              "      border-color: transparent;\n",
              "      border-right-color: var(--fill-color);\n",
              "      border-top-color: var(--fill-color);\n",
              "    }\n",
              "    60% {\n",
              "      border-color: transparent;\n",
              "      border-right-color: var(--fill-color);\n",
              "    }\n",
              "    80% {\n",
              "      border-color: transparent;\n",
              "      border-right-color: var(--fill-color);\n",
              "      border-bottom-color: var(--fill-color);\n",
              "    }\n",
              "    90% {\n",
              "      border-color: transparent;\n",
              "      border-bottom-color: var(--fill-color);\n",
              "    }\n",
              "  }\n",
              "</style>\n",
              "\n",
              "  <script>\n",
              "    async function quickchart(key) {\n",
              "      const quickchartButtonEl =\n",
              "        document.querySelector('#' + key + ' button');\n",
              "      quickchartButtonEl.disabled = true;  // To prevent multiple clicks.\n",
              "      quickchartButtonEl.classList.add('colab-df-spinner');\n",
              "      try {\n",
              "        const charts = await google.colab.kernel.invokeFunction(\n",
              "            'suggestCharts', [key], {});\n",
              "      } catch (error) {\n",
              "        console.error('Error during call to suggestCharts:', error);\n",
              "      }\n",
              "      quickchartButtonEl.classList.remove('colab-df-spinner');\n",
              "      quickchartButtonEl.classList.add('colab-df-quickchart-complete');\n",
              "    }\n",
              "    (() => {\n",
              "      let quickchartButtonEl =\n",
              "        document.querySelector('#df-e84e454d-8e30-47ca-9c64-55e8d1f240ac button');\n",
              "      quickchartButtonEl.style.display =\n",
              "        google.colab.kernel.accessAllowed ? 'block' : 'none';\n",
              "    })();\n",
              "  </script>\n",
              "</div>\n",
              "\n",
              "    </div>\n",
              "  </div>\n"
            ],
            "application/vnd.google.colaboratory.intrinsic+json": {
              "type": "dataframe",
              "variable_name": "superheroes_df",
              "summary": "{\n  \"name\": \"superheroes_df\",\n  \"rows\": 25,\n  \"fields\": [\n    {\n      \"column\": \"id\",\n      \"properties\": {\n        \"dtype\": \"number\",\n        \"std\": 7,\n        \"min\": 1,\n        \"max\": 25,\n        \"num_unique_values\": 25,\n        \"samples\": [\n          9,\n          17,\n          1\n        ],\n        \"semantic_type\": \"\",\n        \"description\": \"\"\n      }\n    },\n    {\n      \"column\": \"last_name\",\n      \"properties\": {\n        \"dtype\": \"string\",\n        \"num_unique_values\": 25,\n        \"samples\": [\n          \"Parker\",\n          \"Allen\",\n          \"Kent\"\n        ],\n        \"semantic_type\": \"\",\n        \"description\": \"\"\n      }\n    },\n    {\n      \"column\": \"first_name\",\n      \"properties\": {\n        \"dtype\": \"string\",\n        \"num_unique_values\": 25,\n        \"samples\": [\n          \"Peter\",\n          \"Barry\",\n          \"Clark\"\n        ],\n        \"semantic_type\": \"\",\n        \"description\": \"\"\n      }\n    },\n    {\n      \"column\": \"superhero\",\n      \"properties\": {\n        \"dtype\": \"string\",\n        \"num_unique_values\": 25,\n        \"samples\": [\n          \"Spider-Man\",\n          \"The Flash\",\n          \"Superman\"\n        ],\n        \"semantic_type\": \"\",\n        \"description\": \"\"\n      }\n    },\n    {\n      \"column\": \"gender\",\n      \"properties\": {\n        \"dtype\": \"category\",\n        \"num_unique_values\": 2,\n        \"samples\": [\n          \"Female\",\n          \"Male\"\n        ],\n        \"semantic_type\": \"\",\n        \"description\": \"\"\n      }\n    },\n    {\n      \"column\": \"alignment\",\n      \"properties\": {\n        \"dtype\": \"category\",\n        \"num_unique_values\": 2,\n        \"samples\": [\n          \"Evil\",\n          \"Good\"\n        ],\n        \"semantic_type\": \"\",\n        \"description\": \"\"\n      }\n    }\n  ]\n}"
            }
          },
          "metadata": {},
          "execution_count": 4
        }
      ]
    },
    {
      "cell_type": "code",
      "source": [
        "superheroes_df.info()"
      ],
      "metadata": {
        "colab": {
          "base_uri": "https://localhost:8080/"
        },
        "id": "eSZLCUTd2aes",
        "outputId": "bee48f4f-54bf-4587-f383-548ee0f94601"
      },
      "execution_count": 5,
      "outputs": [
        {
          "output_type": "stream",
          "name": "stdout",
          "text": [
            "<class 'pandas.core.frame.DataFrame'>\n",
            "RangeIndex: 25 entries, 0 to 24\n",
            "Data columns (total 6 columns):\n",
            " #   Column      Non-Null Count  Dtype \n",
            "---  ------      --------------  ----- \n",
            " 0   id          25 non-null     int64 \n",
            " 1   last_name   25 non-null     object\n",
            " 2   first_name  25 non-null     object\n",
            " 3   superhero   25 non-null     object\n",
            " 4   gender      25 non-null     object\n",
            " 5   alignment   25 non-null     object\n",
            "dtypes: int64(1), object(5)\n",
            "memory usage: 1.3+ KB\n"
          ]
        }
      ]
    },
    {
      "cell_type": "markdown",
      "source": [
        "**FYI: pre-processing and cleaning data**\n",
        "\n",
        "You need do dataset inspection, exploration, duplicates, misisng values before data analysis"
      ],
      "metadata": {
        "id": "PSj9EA3l1loR"
      }
    },
    {
      "cell_type": "markdown",
      "source": [
        "# Data Analysis Report"
      ],
      "metadata": {
        "id": "lF4hhpdUtONm"
      }
    },
    {
      "cell_type": "markdown",
      "source": [
        "## Data Analysis 1: Exploring the superheros by gender and alignment."
      ],
      "metadata": {
        "id": "SgbpUHsqm29I"
      }
    },
    {
      "cell_type": "markdown",
      "source": [
        "### A. Analysing the distribution of superheroes based on their gender"
      ],
      "metadata": {
        "id": "rvr5VkThG7ZC"
      }
    },
    {
      "cell_type": "code",
      "source": [
        "# @title Superheroes Distribution by Gender\n",
        "import pandas as pd\n",
        "import matplotlib.pyplot as plt\n",
        "\n",
        "# Calculate the count of superheroes by gender\n",
        "gender_counts = superheroes_df['gender'].value_counts()\n",
        "\n",
        "gender_counts\n",
        "print(f\"Male: :{gender_counts.Male}\\nFemale: {gender_counts.Female}\")"
      ],
      "metadata": {
        "id": "qd69EfLzHGpM",
        "colab": {
          "base_uri": "https://localhost:8080/"
        },
        "outputId": "cb5b27b9-14f0-41ea-ea9f-94970c1fab85"
      },
      "execution_count": 11,
      "outputs": [
        {
          "output_type": "stream",
          "name": "stdout",
          "text": [
            "Male: :16\n",
            "Female: 9\n"
          ]
        }
      ]
    },
    {
      "cell_type": "code",
      "source": [
        "# @title Superheroes Distribution by Gender Visualisation\n",
        "\n",
        "# Create a bar chart to visualize the distribution\n",
        "plt.figure(figsize=(5, 5))\n",
        "plt.bar(gender_counts.index, gender_counts.values, color=['lightblue', 'lightpink', 'lightgray'])\n",
        "plt.title('Distribution of Superheroes by Gender')\n",
        "plt.xlabel('Gender')\n",
        "plt.ylabel('Count')\n",
        "plt.xticks(rotation=0)\n",
        "\n",
        "# Display the plot\n",
        "plt.show()"
      ],
      "metadata": {
        "id": "nGzOnfcoH_rq"
      },
      "execution_count": null,
      "outputs": []
    },
    {
      "cell_type": "code",
      "source": [
        "# @title Superheroes Distribution by Gender { run: \"auto\" }\n",
        "display_graph = False # @param {type:\"boolean\"}\n",
        "\n",
        "import pandas as pd\n",
        "import matplotlib.pyplot as plt\n",
        "\n",
        "# Calculate the count of superheroes by gender\n",
        "gender_counts = superheroes_df['gender'].value_counts()\n",
        "\n",
        "gender_counts\n",
        "print(f\"Male: :{gender_counts.Male}\\nFemale: {gender_counts.Female}\")\n",
        "\n",
        "if display_graph == True:\n",
        "  # Create a bar chart to visualize the distribution\n",
        "  plt.figure(figsize=(5, 5))\n",
        "  plt.bar(gender_counts.index, gender_counts.values, color=['lightblue', 'lightpink', 'lightgray'])\n",
        "  plt.title('Distribution of Superheroes by Gender')\n",
        "  plt.xlabel('Gender')\n",
        "  plt.ylabel('Count')\n",
        "  plt.xticks(rotation=0)\n",
        "\n",
        "  # Display the plot\n",
        "  plt.show()"
      ],
      "metadata": {
        "colab": {
          "base_uri": "https://localhost:8080/"
        },
        "cellView": "form",
        "id": "sYvyixqo3mkN",
        "outputId": "037754e7-0c0c-4918-883d-4c557d2f55c6"
      },
      "execution_count": 18,
      "outputs": [
        {
          "output_type": "stream",
          "name": "stdout",
          "text": [
            "Male: :16\n",
            "Female: 9\n"
          ]
        }
      ]
    },
    {
      "cell_type": "markdown",
      "source": [
        "### B. Analysing the distribution of superheroes based on their alignment\n"
      ],
      "metadata": {
        "id": "pPHFBv7DIN38"
      }
    },
    {
      "cell_type": "code",
      "source": [
        "\n"
      ],
      "metadata": {
        "id": "tJ5D5iwOHUmK"
      },
      "execution_count": null,
      "outputs": []
    },
    {
      "cell_type": "markdown",
      "source": [
        "## Data Analysis 2: Exploring the  relationship between gender and alignment among superheroes.\n",
        "\n",
        "We examine whether there are any gender-based patterns in superhero alignment.\n",
        "We look for trends, such as whether a particular gender is more commonly associated with being \"Good\" or \"Evil.\""
      ],
      "metadata": {
        "id": "UaJZu09opfIH"
      }
    },
    {
      "cell_type": "code",
      "source": [
        "# @title Relationship between Gender and Alignment among Superheroes\n",
        "import pandas as pd\n",
        "\n",
        "# Group the data by gender and alignment\n",
        "grouped_data = superheroes_df.groupby(['gender', 'alignment'])\n",
        "\n",
        "# Calculate the count for each group\n",
        "gender_alignment_counts = grouped_data.size()\n",
        "\n",
        "# Reshape the result to have gender as rows and alignment as columns\n",
        "gender_alignment_counts = gender_alignment_counts.unstack()\n",
        "\n",
        "# Replace any missing values with zeros\n",
        "gender_alignment_counts = gender_alignment_counts.fillna(0)\n",
        "\n",
        "# Display the resulting DataFrame\n",
        "(gender_alignment_counts)\n",
        "\n",
        "# Create a stacked bar chart\n",
        "gender_alignment_counts.plot(kind='bar', stacked=True, figsize=(5, 5))\n",
        "plt.title('Superheroes by Gender and Alignment')\n",
        "plt.xlabel('Gender')\n",
        "plt.ylabel('Count')\n",
        "plt.xticks(rotation=0)\n",
        "plt.legend(title='Alignment')\n",
        "\n",
        "# Display the plot\n",
        "plt.show()"
      ],
      "metadata": {
        "id": "Y3uyvElWmdPD",
        "colab": {
          "base_uri": "https://localhost:8080/",
          "height": 487
        },
        "outputId": "32a916ce-7b93-4792-cd67-47c0ab101759"
      },
      "execution_count": 23,
      "outputs": [
        {
          "output_type": "display_data",
          "data": {
            "text/plain": [
              "<Figure size 500x500 with 1 Axes>"
            ],
            "image/png": "[encoded data removed]"
          },
          "metadata": {}
        }
      ]
    },
    {
      "cell_type": "markdown",
      "source": [
        "# Reference Sources:\n",
        "https://colab.research.google.com/notebooks/forms.ipynb\n"
      ],
      "metadata": {
        "id": "GiOCN838rjEw"
      }
    }
  ]
}