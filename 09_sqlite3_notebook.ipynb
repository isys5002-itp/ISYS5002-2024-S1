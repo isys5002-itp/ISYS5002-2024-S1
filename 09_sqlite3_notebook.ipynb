{
  "cells": [
    {
      "cell_type": "markdown",
      "metadata": {
        "id": "view-in-github",
        "colab_type": "text"
      },
      "source": [
        "<a href=\"https://colab.research.google.com/github/isys5002-itp/ISYS5002-2024-S1/blob/main/09_sqlite3_notebook.ipynb\" target=\"_parent\"><img src=\"https://colab.research.google.com/assets/colab-badge.svg\" alt=\"Open In Colab\"/></a>"
      ]
    },
    {
      "cell_type": "markdown",
      "metadata": {
        "id": "mbsVgk4dW_nz"
      },
      "source": [
        "#SQL and Python (and a little Pandas)\n",
        "\n",
        "When it comes to data retrieval and basic statistics, SQL shines, while Python shines for in-depth, flexible exploratory data analysis or data science. What if you could combine the two programming languages into a single application?\n",
        "\n",
        "We will use SQLite3 which is part of the standard Python 3 package, so nothing to install. Let’s take a quick look at the data types that are available:\n",
        "\n",
        "| SQL | Python |\n",
        "|-----|--------|\n",
        "| NULL — Includes a NULL value | none\n",
        "| INTEGER — Includes an integer | int\n",
        "| REAL — Includes a floating-point (decimal) value | float\n",
        "| TEXT. — Includes text | str\n",
        "| BLOB. — Includes a binary large object that is stored exactly as input | bytes\n",
        "\n",
        "In this notebook, we’ll demonstrate\n",
        "\n",
        "* Loading the library\n",
        "* Creating and connecting to your database\n",
        "* Creating database tables\n",
        "* Adding data\n",
        "* Querying data\n",
        "* Deleting data\n",
        "\n",
        "\n",
        "\n",
        "## Import the library\n",
        "\n",
        "Let’s start off the tutorial by loading in the library. We can do this by using the following command"
      ]
    },
    {
      "cell_type": "code",
      "execution_count": 1,
      "metadata": {
        "id": "LPimUgLJW-zI"
      },
      "outputs": [],
      "source": [
        "import sqlite3"
      ]
    },
    {
      "cell_type": "markdown",
      "metadata": {
        "id": "Hw8dIXJ-XmD3"
      },
      "source": [
        "## Create a connection\n",
        "\n",
        "We use the connect method and pass the name of the database. Let's create an *superheroes.db*."
      ]
    },
    {
      "cell_type": "code",
      "execution_count": 2,
      "metadata": {
        "id": "mrad4SnyXxgQ"
      },
      "outputs": [],
      "source": [
        "conn = sqlite3.connect('superheroes.db')"
      ]
    },
    {
      "cell_type": "markdown",
      "metadata": {
        "id": "mejA7Nv4XyPH"
      },
      "source": [
        "We’ve created a new connection object, as well as a new file called *superheroes.db* in the directory in which you’re working.\n",
        "\n",
        "\n",
        "## Create a cursor object\n",
        "\n",
        "Now that we’ve created a database connection object, our next task is to create a cursor object. A cursor object allows us to execute SQL queries against a database. A cursor acts a middleware between a connection and SQL query"
      ]
    },
    {
      "cell_type": "code",
      "execution_count": 3,
      "metadata": {
        "id": "ZTlVz29LYR9b"
      },
      "outputs": [],
      "source": [
        "cur = conn.cursor() #something like 'row' returned from a table"
      ]
    },
    {
      "cell_type": "markdown",
      "metadata": {
        "id": "Sn6PJmYtYdWr"
      },
      "source": [
        "# Create Table\n",
        "\n",
        "Use a common 'pattern'\n",
        "\n",
        "1. Create a SQL command as a string\n",
        "2. Use cursor to execture the command\n",
        "3. If needed fetch the results"
      ]
    },
    {
      "cell_type": "code",
      "execution_count": 4,
      "metadata": {
        "id": "SIGT5zH0Ykd4"
      },
      "outputs": [],
      "source": [
        "sql = \"\"\"\n",
        "CREATE TABLE IF NOT EXISTS users(\n",
        "   userid INT PRIMARY KEY,\n",
        "   fname TEXT,\n",
        "   lname TEXT,\n",
        "   superhero TEXT,\n",
        "   gender TEXT);\n",
        "\"\"\"\n",
        "\n",
        "# Execute query and commit transaction\n",
        "\n",
        "cur.execute(sql)\n",
        "conn.commit()"
      ]
    },
    {
      "cell_type": "markdown",
      "metadata": {
        "id": "pn3Pj3hlYsBK"
      },
      "source": [
        "The IF NOT EXISTS will help us when reconnecting to the database. The query will allow us to check if the table exists, and if it does, nothing is changed.\n",
        "\n",
        "# Insert into Table\n",
        "\n",
        "Let’s take a look at how to add data with SQLite in Python to the database we just created. Similar to the table generation query, the query to add data uses the cursor object to execute the query."
      ]
    },
    {
      "cell_type": "code",
      "source": [
        "'''\n",
        "INSERT INTO users(userid, fname, lname, superhero, gender)\n",
        "   VALUES('00001', 'Bruce', 'Wayne', 'Batman', 'male');\n",
        "'''"
      ],
      "metadata": {
        "colab": {
          "base_uri": "https://localhost:8080/",
          "height": 35
        },
        "id": "DgdHz1nNfixb",
        "outputId": "f940c70e-7b53-491b-8bd1-5a8684680480"
      },
      "execution_count": null,
      "outputs": [
        {
          "output_type": "execute_result",
          "data": {
            "text/plain": [
              "\"\\nINSERT INTO users(userid, fname, lname, superhero, gender) \\n   VALUES('00001', 'Bruce', 'Wayne', 'Batman', 'male');\\n\""
            ],
            "application/vnd.google.colaboratory.intrinsic+json": {
              "type": "string"
            }
          },
          "metadata": {},
          "execution_count": 5
        }
      ]
    },
    {
      "cell_type": "code",
      "execution_count": 5,
      "metadata": {
        "id": "sDDF56NqYy1D"
      },
      "outputs": [],
      "source": [
        "sql = '''\n",
        "INSERT INTO users(userid, fname, lname, superhero, gender)\n",
        "   VALUES('00006', 'Bruce', 'Wayne', 'Batman', 'male');\n",
        "'''\n",
        "\n",
        "# Execute query and commit transaction\n",
        "cur.execute(sql)\n",
        "conn.commit()"
      ]
    },
    {
      "cell_type": "code",
      "source": [
        "sql = '''\n",
        "SELECT * FROM users;\n",
        "'''\n",
        "cur.execute(sql)\n",
        "all_results = cur.fetchall()\n",
        "print(all_results)"
      ],
      "metadata": {
        "id": "pbdLC19ie7oy",
        "colab": {
          "base_uri": "https://localhost:8080/"
        },
        "outputId": "10de453b-ad19-41a8-b8d3-8fa81ecc794f"
      },
      "execution_count": 8,
      "outputs": [
        {
          "output_type": "stream",
          "name": "stdout",
          "text": [
            "[(6, 'Bruce', 'Wayne', 'Batman', 'male'), (9, 'Sisi', 'Provis', 'Witch', 'female')]\n"
          ]
        }
      ]
    },
    {
      "cell_type": "code",
      "source": [
        "sql = '''\n",
        "INSERT INTO users(userid, fname, lname, superhero, gender)\n",
        "   VALUES('00009', 'Sisi', 'Provis', 'Witch', 'female');\n",
        "'''\n",
        "\n",
        "cur.execute(sql)\n",
        "conn.commit()"
      ],
      "metadata": {
        "id": "Ei1nKersAQUE"
      },
      "execution_count": 7,
      "outputs": []
    },
    {
      "cell_type": "markdown",
      "metadata": {
        "id": "yGNPSuQ7SDzr"
      },
      "source": [
        "Often, when we’re working within Python, we’ll have variables that hold values for us. For example, we may have a tuple that contains that information about a user which might look like this:"
      ]
    },
    {
      "cell_type": "code",
      "execution_count": 9,
      "metadata": {
        "id": "tELkllTPSDT6"
      },
      "outputs": [],
      "source": [
        "user = ('00002', 'Sue', 'Storm', 'Invisible Woman', 'female') # MUST BE A TUPLE!"
      ]
    },
    {
      "cell_type": "markdown",
      "metadata": {
        "id": "lr_29ZdcSQpO"
      },
      "source": [
        "If we wanted to load this data into our database, we would use a different convention:\n",
        "\n"
      ]
    },
    {
      "cell_type": "code",
      "execution_count": 10,
      "metadata": {
        "id": "dt35M6mJSO0Q"
      },
      "outputs": [],
      "source": [
        "cur.execute(\"INSERT INTO users VALUES(?, ?, ?, ?, ?);\", user)\n",
        "conn.commit()"
      ]
    },
    {
      "cell_type": "markdown",
      "metadata": {
        "id": "wZHJs2QPShjF"
      },
      "source": [
        "Incidentally, using the (?, ?, …) method we noted above also helps protect against SQL injection attacks.\n",
        "\n",
        "It’s important to note here that the **SQLite expects the values to be in tuple-format**. However, the variable can contain a list, as long as the list items are tuples. For example, we could add more users using the variable:"
      ]
    },
    {
      "cell_type": "code",
      "execution_count": 12,
      "metadata": {
        "id": "BgWey1J_UXZt"
      },
      "outputs": [],
      "source": [
        "more_users = [('00003', 'Peter', 'Parker', 'Spider Man', 'male'),\n",
        "              ('00004', 'Tony', 'Stark', 'Ironman', 'male'),\n",
        "              ('00005', 'Diana', 'Princess', 'Wonder Woman', 'female')]"
      ]
    },
    {
      "cell_type": "code",
      "execution_count": 13,
      "metadata": {
        "id": "b9xk5aOPSs1W"
      },
      "outputs": [],
      "source": [
        "cur.executemany(\"INSERT INTO users VALUES(?, ?, ?, ?, ?);\", more_users)\n",
        "conn.commit()"
      ]
    },
    {
      "cell_type": "markdown",
      "metadata": {
        "id": "0q9-ZbAHY30U"
      },
      "source": [
        "In this case, instead of using the execute function, we’ll want to use the executemany function\n",
        "\n",
        "## Fetching Data\n",
        "\n",
        "Here we take a look at how to select data with SQLite in Python! We’ll follow a similar structure as we did to execute queries above"
      ]
    },
    {
      "cell_type": "code",
      "execution_count": 14,
      "metadata": {
        "id": "K8Qw26zu1rTD",
        "colab": {
          "base_uri": "https://localhost:8080/"
        },
        "outputId": "b00a3be2-318c-46be-d74f-0711e0af3b13"
      },
      "outputs": [
        {
          "output_type": "stream",
          "name": "stdout",
          "text": [
            "(6, 'Bruce', 'Wayne', 'Batman', 'male')\n",
            "(9, 'Sisi', 'Provis', 'Witch', 'female')\n",
            "(2, 'Sue', 'Storm', 'Invisible Woman', 'female')\n",
            "(3, 'Peter', 'Parker', 'Spider Man', 'male')\n",
            "(4, 'Tony', 'Stark', 'Ironman', 'male')\n",
            "(5, 'Diana', 'Princess', 'Wonder Woman', 'female')\n"
          ]
        }
      ],
      "source": [
        "sql = '''\n",
        "SELECT * FROM users;\n",
        "'''\n",
        "rows = cur.execute(sql)\n",
        "for row in rows:\n",
        "  print(row)"
      ]
    },
    {
      "cell_type": "markdown",
      "metadata": {
        "id": "3wSHZTo210RD"
      },
      "source": [
        "Some useful methods"
      ]
    },
    {
      "cell_type": "code",
      "execution_count": 15,
      "metadata": {
        "id": "6fft_Fo-Y6TM",
        "colab": {
          "base_uri": "https://localhost:8080/"
        },
        "outputId": "a16f7dfc-02dc-425e-c700-1c591beb3ee6"
      },
      "outputs": [
        {
          "output_type": "stream",
          "name": "stdout",
          "text": [
            "(6, 'Bruce', 'Wayne', 'Batman', 'male')\n"
          ]
        }
      ],
      "source": [
        "sql = '''\n",
        "SELECT * FROM users;\n",
        "'''\n",
        "cur.execute(sql)\n",
        "one_result = cur.fetchone()\n",
        "print(one_result)"
      ]
    },
    {
      "cell_type": "markdown",
      "metadata": {
        "id": "r-FjLFyOTjAV"
      },
      "source": [
        "We wanted to return more than only one result, we could use the fetchmany()"
      ]
    },
    {
      "cell_type": "code",
      "execution_count": 16,
      "metadata": {
        "id": "Z77jiumJTcVk",
        "colab": {
          "base_uri": "https://localhost:8080/"
        },
        "outputId": "cde68d3a-9189-49ec-be0c-f1ea2e95d7b8"
      },
      "outputs": [
        {
          "output_type": "stream",
          "name": "stdout",
          "text": [
            "[(6, 'Bruce', 'Wayne', 'Batman', 'male'), (9, 'Sisi', 'Provis', 'Witch', 'female'), (2, 'Sue', 'Storm', 'Invisible Woman', 'female')]\n"
          ]
        }
      ],
      "source": [
        "sql = '''\n",
        "SELECT * FROM users;\n",
        "'''\n",
        "cur.execute(sql)\n",
        "three_results = cur.fetchmany(3)\n",
        "print(three_results)"
      ]
    },
    {
      "cell_type": "markdown",
      "metadata": {
        "id": "C9lg9VV_TwTE"
      },
      "source": [
        "We canuse the fetchall() function to return all the results."
      ]
    },
    {
      "cell_type": "code",
      "execution_count": 17,
      "metadata": {
        "id": "vXtmKQQ2T2MQ",
        "colab": {
          "base_uri": "https://localhost:8080/"
        },
        "outputId": "fbe5f75a-5a22-4449-edf9-8006dd577719"
      },
      "outputs": [
        {
          "output_type": "stream",
          "name": "stdout",
          "text": [
            "[(6, 'Bruce', 'Wayne', 'Batman', 'male'), (9, 'Sisi', 'Provis', 'Witch', 'female'), (2, 'Sue', 'Storm', 'Invisible Woman', 'female'), (3, 'Peter', 'Parker', 'Spider Man', 'male'), (4, 'Tony', 'Stark', 'Ironman', 'male'), (5, 'Diana', 'Princess', 'Wonder Woman', 'female')]\n"
          ]
        }
      ],
      "source": [
        "sql = '''\n",
        "SELECT * FROM users;\n",
        "'''\n",
        "cur.execute(sql)\n",
        "all_results = cur.fetchall()\n",
        "print(all_results)"
      ]
    },
    {
      "cell_type": "code",
      "source": [
        "sql = '''\n",
        "SELECT superhero, gender FROM users;\n",
        "'''\n",
        "cur.execute(sql)\n",
        "all_results = cur.fetchall()\n",
        "print(all_results)"
      ],
      "metadata": {
        "id": "ovH7pqm-kpZl",
        "colab": {
          "base_uri": "https://localhost:8080/"
        },
        "outputId": "7ea831d6-c096-40a7-fa72-d0c707f173e6"
      },
      "execution_count": 18,
      "outputs": [
        {
          "output_type": "stream",
          "name": "stdout",
          "text": [
            "[('Batman', 'male'), ('Witch', 'female'), ('Invisible Woman', 'female'), ('Spider Man', 'male'), ('Ironman', 'male'), ('Wonder Woman', 'female')]\n"
          ]
        }
      ]
    },
    {
      "cell_type": "code",
      "source": [
        "sql = '''\n",
        "SELECT fname, lname, superhero FROM users;\n",
        "'''\n",
        "cur.execute(sql)\n",
        "all_results = cur.fetchall()\n",
        "print(all_results)"
      ],
      "metadata": {
        "colab": {
          "base_uri": "https://localhost:8080/"
        },
        "id": "V29yOeiGBsd5",
        "outputId": "a47f791c-6d8f-4368-bad5-d600152a6896"
      },
      "execution_count": 19,
      "outputs": [
        {
          "output_type": "stream",
          "name": "stdout",
          "text": [
            "[('Bruce', 'Wayne', 'Batman'), ('Sisi', 'Provis', 'Witch'), ('Sue', 'Storm', 'Invisible Woman'), ('Peter', 'Parker', 'Spider Man'), ('Tony', 'Stark', 'Ironman'), ('Diana', 'Princess', 'Wonder Woman')]\n"
          ]
        }
      ]
    },
    {
      "cell_type": "markdown",
      "metadata": {
        "id": "-tk5M9E9ZBPO"
      },
      "source": [
        "## Delete Data"
      ]
    },
    {
      "cell_type": "code",
      "source": [
        "sql='''\n",
        "DELETE FROM users WHERE userid='6';\n",
        "'''\n",
        "cur.execute(sql)\n",
        "conn.commit()"
      ],
      "metadata": {
        "id": "CBxbA97kjTHo"
      },
      "execution_count": 20,
      "outputs": []
    },
    {
      "cell_type": "code",
      "execution_count": 21,
      "metadata": {
        "id": "VI52gWODZCsF"
      },
      "outputs": [],
      "source": [
        "sql='''\n",
        "DELETE FROM users WHERE lname='Parker';\n",
        "'''\n",
        "cur.execute(sql)\n",
        "conn.commit()"
      ]
    },
    {
      "cell_type": "markdown",
      "metadata": {
        "id": "tTH1AnLeU85R"
      },
      "source": [
        "Did it work?"
      ]
    },
    {
      "cell_type": "code",
      "execution_count": 22,
      "metadata": {
        "id": "ebIjc2LHU9mt",
        "colab": {
          "base_uri": "https://localhost:8080/"
        },
        "outputId": "605e6e6a-8198-44f3-e09f-713ef932ca22"
      },
      "outputs": [
        {
          "output_type": "execute_result",
          "data": {
            "text/plain": [
              "[]"
            ]
          },
          "metadata": {},
          "execution_count": 22
        }
      ],
      "source": [
        "sql='''\n",
        "select * from users where lname='Parker';\n",
        "'''\n",
        "cur.execute(sql)\n",
        "cur.fetchall()"
      ]
    },
    {
      "cell_type": "markdown",
      "metadata": {
        "id": "KbQjJ0YGVWUD"
      },
      "source": [
        "This prints out an empty list, confirming that the record has been deleted.\n",
        "\n",
        "## pandas\n",
        "\n",
        "We can use the pandas package to read a SQLite database"
      ]
    },
    {
      "cell_type": "code",
      "execution_count": 26,
      "metadata": {
        "id": "Ss4ULSPbXEc0",
        "colab": {
          "base_uri": "https://localhost:8080/",
          "height": 206
        },
        "outputId": "e4395a1d-f184-4749-b252-453d919bbaf8"
      },
      "outputs": [
        {
          "output_type": "execute_result",
          "data": {
            "text/plain": [
              "   userid  fname     lname        superhero  gender\n",
              "0       9   Sisi    Provis            Witch  female\n",
              "1       2    Sue     Storm  Invisible Woman  female\n",
              "2       4   Tony     Stark          Ironman    male\n",
              "3       5  Diana  Princess     Wonder Woman  female\n",
              "4       3  Peter    Parker        Spiderman    male"
            ],
            "text/html": [
              "\n",
              "  <div id=\"df-8a1dbc08-a9ef-431d-85c5-3092d8029f20\" class=\"colab-df-container\">\n",
              "    <div>\n",
              "<style scoped>\n",
              "    .dataframe tbody tr th:only-of-type {\n",
              "        vertical-align: middle;\n",
              "    }\n",
              "\n",
              "    .dataframe tbody tr th {\n",
              "        vertical-align: top;\n",
              "    }\n",
              "\n",
              "    .dataframe thead th {\n",
              "        text-align: right;\n",
              "    }\n",
              "</style>\n",
              "<table border=\"1\" class=\"dataframe\">\n",
              "  <thead>\n",
              "    <tr style=\"text-align: right;\">\n",
              "      <th></th>\n",
              "      <th>userid</th>\n",
              "      <th>fname</th>\n",
              "      <th>lname</th>\n",
              "      <th>superhero</th>\n",
              "      <th>gender</th>\n",
              "    </tr>\n",
              "  </thead>\n",
              "  <tbody>\n",
              "    <tr>\n",
              "      <th>0</th>\n",
              "      <td>9</td>\n",
              "      <td>Sisi</td>\n",
              "      <td>Provis</td>\n",
              "      <td>Witch</td>\n",
              "      <td>female</td>\n",
              "    </tr>\n",
              "    <tr>\n",
              "      <th>1</th>\n",
              "      <td>2</td>\n",
              "      <td>Sue</td>\n",
              "      <td>Storm</td>\n",
              "      <td>Invisible Woman</td>\n",
              "      <td>female</td>\n",
              "    </tr>\n",
              "    <tr>\n",
              "      <th>2</th>\n",
              "      <td>4</td>\n",
              "      <td>Tony</td>\n",
              "      <td>Stark</td>\n",
              "      <td>Ironman</td>\n",
              "      <td>male</td>\n",
              "    </tr>\n",
              "    <tr>\n",
              "      <th>3</th>\n",
              "      <td>5</td>\n",
              "      <td>Diana</td>\n",
              "      <td>Princess</td>\n",
              "      <td>Wonder Woman</td>\n",
              "      <td>female</td>\n",
              "    </tr>\n",
              "    <tr>\n",
              "      <th>4</th>\n",
              "      <td>3</td>\n",
              "      <td>Peter</td>\n",
              "      <td>Parker</td>\n",
              "      <td>Spiderman</td>\n",
              "      <td>male</td>\n",
              "    </tr>\n",
              "  </tbody>\n",
              "</table>\n",
              "</div>\n",
              "    <div class=\"colab-df-buttons\">\n",
              "\n",
              "  <div class=\"colab-df-container\">\n",
              "    <button class=\"colab-df-convert\" onclick=\"convertToInteractive('df-8a1dbc08-a9ef-431d-85c5-3092d8029f20')\"\n",
              "            title=\"Convert this dataframe to an interactive table.\"\n",
              "            style=\"display:none;\">\n",
              "\n",
              "  <svg xmlns=\"http://www.w3.org/2000/svg\" height=\"24px\" viewBox=\"0 -960 960 960\">\n",
              "    <path d=\"M120-120v-720h720v720H120Zm60-500h600v-160H180v160Zm220 220h160v-160H400v160Zm0 220h160v-160H400v160ZM180-400h160v-160H180v160Zm440 0h160v-160H620v160ZM180-180h160v-160H180v160Zm440 0h160v-160H620v160Z\"/>\n",
              "  </svg>\n",
              "    </button>\n",
              "\n",
              "  <style>\n",
              "    .colab-df-container {\n",
              "      display:flex;\n",
              "      gap: 12px;\n",
              "    }\n",
              "\n",
              "    .colab-df-convert {\n",
              "      background-color: #E8F0FE;\n",
              "      border: none;\n",
              "      border-radius: 50%;\n",
              "      cursor: pointer;\n",
              "      display: none;\n",
              "      fill: #1967D2;\n",
              "      height: 32px;\n",
              "      padding: 0 0 0 0;\n",
              "      width: 32px;\n",
              "    }\n",
              "\n",
              "    .colab-df-convert:hover {\n",
              "      background-color: #E2EBFA;\n",
              "      box-shadow: 0px 1px 2px rgba(60, 64, 67, 0.3), 0px 1px 3px 1px rgba(60, 64, 67, 0.15);\n",
              "      fill: #174EA6;\n",
              "    }\n",
              "\n",
              "    .colab-df-buttons div {\n",
              "      margin-bottom: 4px;\n",
              "    }\n",
              "\n",
              "    [theme=dark] .colab-df-convert {\n",
              "      background-color: #3B4455;\n",
              "      fill: #D2E3FC;\n",
              "    }\n",
              "\n",
              "    [theme=dark] .colab-df-convert:hover {\n",
              "      background-color: #434B5C;\n",
              "      box-shadow: 0px 1px 3px 1px rgba(0, 0, 0, 0.15);\n",
              "      filter: drop-shadow(0px 1px 2px rgba(0, 0, 0, 0.3));\n",
              "      fill: #FFFFFF;\n",
              "    }\n",
              "  </style>\n",
              "\n",
              "    <script>\n",
              "      const buttonEl =\n",
              "        document.querySelector('#df-8a1dbc08-a9ef-431d-85c5-3092d8029f20 button.colab-df-convert');\n",
              "      buttonEl.style.display =\n",
              "        google.colab.kernel.accessAllowed ? 'block' : 'none';\n",
              "\n",
              "      async function convertToInteractive(key) {\n",
              "        const element = document.querySelector('#df-8a1dbc08-a9ef-431d-85c5-3092d8029f20');\n",
              "        const dataTable =\n",
              "          await google.colab.kernel.invokeFunction('convertToInteractive',\n",
              "                                                    [key], {});\n",
              "        if (!dataTable) return;\n",
              "\n",
              "        const docLinkHtml = 'Like what you see? Visit the ' +\n",
              "          '<a target=\"_blank\" href=https://colab.research.google.com/notebooks/data_table.ipynb>data table notebook</a>'\n",
              "          + ' to learn more about interactive tables.';\n",
              "        element.innerHTML = '';\n",
              "        dataTable['output_type'] = 'display_data';\n",
              "        await google.colab.output.renderOutput(dataTable, element);\n",
              "        const docLink = document.createElement('div');\n",
              "        docLink.innerHTML = docLinkHtml;\n",
              "        element.appendChild(docLink);\n",
              "      }\n",
              "    </script>\n",
              "  </div>\n",
              "\n",
              "\n",
              "<div id=\"df-4a92c0b2-6c12-4d3d-b83a-543530492f73\">\n",
              "  <button class=\"colab-df-quickchart\" onclick=\"quickchart('df-4a92c0b2-6c12-4d3d-b83a-543530492f73')\"\n",
              "            title=\"Suggest charts\"\n",
              "            style=\"display:none;\">\n",
              "\n",
              "<svg xmlns=\"http://www.w3.org/2000/svg\" height=\"24px\"viewBox=\"0 0 24 24\"\n",
              "     width=\"24px\">\n",
              "    <g>\n",
              "        <path d=\"M19 3H5c-1.1 0-2 .9-2 2v14c0 1.1.9 2 2 2h14c1.1 0 2-.9 2-2V5c0-1.1-.9-2-2-2zM9 17H7v-7h2v7zm4 0h-2V7h2v10zm4 0h-2v-4h2v4z\"/>\n",
              "    </g>\n",
              "</svg>\n",
              "  </button>\n",
              "\n",
              "<style>\n",
              "  .colab-df-quickchart {\n",
              "      --bg-color: #E8F0FE;\n",
              "      --fill-color: #1967D2;\n",
              "      --hover-bg-color: #E2EBFA;\n",
              "      --hover-fill-color: #174EA6;\n",
              "      --disabled-fill-color: #AAA;\n",
              "      --disabled-bg-color: #DDD;\n",
              "  }\n",
              "\n",
              "  [theme=dark] .colab-df-quickchart {\n",
              "      --bg-color: #3B4455;\n",
              "      --fill-color: #D2E3FC;\n",
              "      --hover-bg-color: #434B5C;\n",
              "      --hover-fill-color: #FFFFFF;\n",
              "      --disabled-bg-color: #3B4455;\n",
              "      --disabled-fill-color: #666;\n",
              "  }\n",
              "\n",
              "  .colab-df-quickchart {\n",
              "    background-color: var(--bg-color);\n",
              "    border: none;\n",
              "    border-radius: 50%;\n",
              "    cursor: pointer;\n",
              "    display: none;\n",
              "    fill: var(--fill-color);\n",
              "    height: 32px;\n",
              "    padding: 0;\n",
              "    width: 32px;\n",
              "  }\n",
              "\n",
              "  .colab-df-quickchart:hover {\n",
              "    background-color: var(--hover-bg-color);\n",
              "    box-shadow: 0 1px 2px rgba(60, 64, 67, 0.3), 0 1px 3px 1px rgba(60, 64, 67, 0.15);\n",
              "    fill: var(--button-hover-fill-color);\n",
              "  }\n",
              "\n",
              "  .colab-df-quickchart-complete:disabled,\n",
              "  .colab-df-quickchart-complete:disabled:hover {\n",
              "    background-color: var(--disabled-bg-color);\n",
              "    fill: var(--disabled-fill-color);\n",
              "    box-shadow: none;\n",
              "  }\n",
              "\n",
              "  .colab-df-spinner {\n",
              "    border: 2px solid var(--fill-color);\n",
              "    border-color: transparent;\n",
              "    border-bottom-color: var(--fill-color);\n",
              "    animation:\n",
              "      spin 1s steps(1) infinite;\n",
              "  }\n",
              "\n",
              "  @keyframes spin {\n",
              "    0% {\n",
              "      border-color: transparent;\n",
              "      border-bottom-color: var(--fill-color);\n",
              "      border-left-color: var(--fill-color);\n",
              "    }\n",
              "    20% {\n",
              "      border-color: transparent;\n",
              "      border-left-color: var(--fill-color);\n",
              "      border-top-color: var(--fill-color);\n",
              "    }\n",
              "    30% {\n",
              "      border-color: transparent;\n",
              "      border-left-color: var(--fill-color);\n",
              "      border-top-color: var(--fill-color);\n",
              "      border-right-color: var(--fill-color);\n",
              "    }\n",
              "    40% {\n",
              "      border-color: transparent;\n",
              "      border-right-color: var(--fill-color);\n",
              "      border-top-color: var(--fill-color);\n",
              "    }\n",
              "    60% {\n",
              "      border-color: transparent;\n",
              "      border-right-color: var(--fill-color);\n",
              "    }\n",
              "    80% {\n",
              "      border-color: transparent;\n",
              "      border-right-color: var(--fill-color);\n",
              "      border-bottom-color: var(--fill-color);\n",
              "    }\n",
              "    90% {\n",
              "      border-color: transparent;\n",
              "      border-bottom-color: var(--fill-color);\n",
              "    }\n",
              "  }\n",
              "</style>\n",
              "\n",
              "  <script>\n",
              "    async function quickchart(key) {\n",
              "      const quickchartButtonEl =\n",
              "        document.querySelector('#' + key + ' button');\n",
              "      quickchartButtonEl.disabled = true;  // To prevent multiple clicks.\n",
              "      quickchartButtonEl.classList.add('colab-df-spinner');\n",
              "      try {\n",
              "        const charts = await google.colab.kernel.invokeFunction(\n",
              "            'suggestCharts', [key], {});\n",
              "      } catch (error) {\n",
              "        console.error('Error during call to suggestCharts:', error);\n",
              "      }\n",
              "      quickchartButtonEl.classList.remove('colab-df-spinner');\n",
              "      quickchartButtonEl.classList.add('colab-df-quickchart-complete');\n",
              "    }\n",
              "    (() => {\n",
              "      let quickchartButtonEl =\n",
              "        document.querySelector('#df-4a92c0b2-6c12-4d3d-b83a-543530492f73 button');\n",
              "      quickchartButtonEl.style.display =\n",
              "        google.colab.kernel.accessAllowed ? 'block' : 'none';\n",
              "    })();\n",
              "  </script>\n",
              "</div>\n",
              "\n",
              "  <div id=\"id_4edd6d1b-e53a-4d56-9999-eb5a29e8dd16\">\n",
              "    <style>\n",
              "      .colab-df-generate {\n",
              "        background-color: #E8F0FE;\n",
              "        border: none;\n",
              "        border-radius: 50%;\n",
              "        cursor: pointer;\n",
              "        display: none;\n",
              "        fill: #1967D2;\n",
              "        height: 32px;\n",
              "        padding: 0 0 0 0;\n",
              "        width: 32px;\n",
              "      }\n",
              "\n",
              "      .colab-df-generate:hover {\n",
              "        background-color: #E2EBFA;\n",
              "        box-shadow: 0px 1px 2px rgba(60, 64, 67, 0.3), 0px 1px 3px 1px rgba(60, 64, 67, 0.15);\n",
              "        fill: #174EA6;\n",
              "      }\n",
              "\n",
              "      [theme=dark] .colab-df-generate {\n",
              "        background-color: #3B4455;\n",
              "        fill: #D2E3FC;\n",
              "      }\n",
              "\n",
              "      [theme=dark] .colab-df-generate:hover {\n",
              "        background-color: #434B5C;\n",
              "        box-shadow: 0px 1px 3px 1px rgba(0, 0, 0, 0.15);\n",
              "        filter: drop-shadow(0px 1px 2px rgba(0, 0, 0, 0.3));\n",
              "        fill: #FFFFFF;\n",
              "      }\n",
              "    </style>\n",
              "    <button class=\"colab-df-generate\" onclick=\"generateWithVariable('users_df')\"\n",
              "            title=\"Generate code using this dataframe.\"\n",
              "            style=\"display:none;\">\n",
              "\n",
              "  <svg xmlns=\"http://www.w3.org/2000/svg\" height=\"24px\"viewBox=\"0 0 24 24\"\n",
              "       width=\"24px\">\n",
              "    <path d=\"M7,19H8.4L18.45,9,17,7.55,7,17.6ZM5,21V16.75L18.45,3.32a2,2,0,0,1,2.83,0l1.4,1.43a1.91,1.91,0,0,1,.58,1.4,1.91,1.91,0,0,1-.58,1.4L9.25,21ZM18.45,9,17,7.55Zm-12,3A5.31,5.31,0,0,0,4.9,8.1,5.31,5.31,0,0,0,1,6.5,5.31,5.31,0,0,0,4.9,4.9,5.31,5.31,0,0,0,6.5,1,5.31,5.31,0,0,0,8.1,4.9,5.31,5.31,0,0,0,12,6.5,5.46,5.46,0,0,0,6.5,12Z\"/>\n",
              "  </svg>\n",
              "    </button>\n",
              "    <script>\n",
              "      (() => {\n",
              "      const buttonEl =\n",
              "        document.querySelector('#id_4edd6d1b-e53a-4d56-9999-eb5a29e8dd16 button.colab-df-generate');\n",
              "      buttonEl.style.display =\n",
              "        google.colab.kernel.accessAllowed ? 'block' : 'none';\n",
              "\n",
              "      buttonEl.onclick = () => {\n",
              "        google.colab.notebook.generateWithVariable('users_df');\n",
              "      }\n",
              "      })();\n",
              "    </script>\n",
              "  </div>\n",
              "\n",
              "    </div>\n",
              "  </div>\n"
            ],
            "application/vnd.google.colaboratory.intrinsic+json": {
              "type": "dataframe",
              "variable_name": "users_df",
              "summary": "{\n  \"name\": \"users_df\",\n  \"rows\": 5,\n  \"fields\": [\n    {\n      \"column\": \"userid\",\n      \"properties\": {\n        \"dtype\": \"number\",\n        \"std\": 2,\n        \"min\": 2,\n        \"max\": 9,\n        \"num_unique_values\": 5,\n        \"samples\": [\n          2,\n          3,\n          4\n        ],\n        \"semantic_type\": \"\",\n        \"description\": \"\"\n      }\n    },\n    {\n      \"column\": \"fname\",\n      \"properties\": {\n        \"dtype\": \"string\",\n        \"num_unique_values\": 5,\n        \"samples\": [\n          \"Sue\",\n          \"Peter\",\n          \"Tony\"\n        ],\n        \"semantic_type\": \"\",\n        \"description\": \"\"\n      }\n    },\n    {\n      \"column\": \"lname\",\n      \"properties\": {\n        \"dtype\": \"string\",\n        \"num_unique_values\": 5,\n        \"samples\": [\n          \"Storm\",\n          \"Parker\",\n          \"Stark\"\n        ],\n        \"semantic_type\": \"\",\n        \"description\": \"\"\n      }\n    },\n    {\n      \"column\": \"superhero\",\n      \"properties\": {\n        \"dtype\": \"string\",\n        \"num_unique_values\": 5,\n        \"samples\": [\n          \"Invisible Woman\",\n          \"Spiderman\",\n          \"Ironman\"\n        ],\n        \"semantic_type\": \"\",\n        \"description\": \"\"\n      }\n    },\n    {\n      \"column\": \"gender\",\n      \"properties\": {\n        \"dtype\": \"category\",\n        \"num_unique_values\": 2,\n        \"samples\": [\n          \"male\",\n          \"female\"\n        ],\n        \"semantic_type\": \"\",\n        \"description\": \"\"\n      }\n    }\n  ]\n}"
            }
          },
          "metadata": {},
          "execution_count": 26
        }
      ],
      "source": [
        "import pandas as pd\n",
        "\n",
        "sql='''\n",
        "SELECT * from users;\n",
        "'''\n",
        "# Load the data into a DataFrame\n",
        "users_df = pd.read_sql_query(sql, conn)\n",
        "users_df"
      ]
    },
    {
      "cell_type": "markdown",
      "metadata": {
        "id": "LF_y3uQsXAP2"
      },
      "source": [
        "and create table from a dataframe"
      ]
    },
    {
      "cell_type": "code",
      "execution_count": 24,
      "metadata": {
        "id": "r9qF-okMYcEp",
        "colab": {
          "base_uri": "https://localhost:8080/"
        },
        "outputId": "0c2be3d2-3561-4d82-e214-f145ca395cbd"
      },
      "outputs": [
        {
          "output_type": "execute_result",
          "data": {
            "text/plain": [
              "3"
            ]
          },
          "metadata": {},
          "execution_count": 24
        }
      ],
      "source": [
        "# Select only data for females\n",
        "users_female_df = users_df[users_df.gender == 'female']\n",
        "\n",
        "# Write the new DataFrame to a new SQLite table\n",
        "users_female_df.to_sql(\"females\", conn, if_exists='replace')"
      ]
    },
    {
      "cell_type": "markdown",
      "source": [
        "## Activity\n",
        "\n",
        "- insert Spiderman info\n",
        "- create 'male' sperheroes table"
      ],
      "metadata": {
        "id": "pwqsbs3vmM4M"
      }
    },
    {
      "cell_type": "code",
      "source": [
        "sql = '''\n",
        "  INSERT INTO users(userid, fname, lname, superhero, gender)\n",
        "   VALUES('00003', 'Peter', 'Parker', 'Spiderman', 'male');\n",
        "'''\n",
        "\n",
        "# Execute query and commit transaction\n",
        "cur.execute(sql)\n",
        "conn.commit()"
      ],
      "metadata": {
        "id": "B3hKIegYmIkw"
      },
      "execution_count": 25,
      "outputs": []
    },
    {
      "cell_type": "code",
      "source": [
        "# Select only data for males\n",
        "users_male_df = users_df[users_df.gender == 'male']\n",
        "\n",
        "# Write the new DataFrame to a new SQLite table\n",
        "users_male_df.to_sql(\"males\", conn, if_exists='replace')"
      ],
      "metadata": {
        "id": "kleJB0rSmuB8",
        "colab": {
          "base_uri": "https://localhost:8080/"
        },
        "outputId": "d3a49ea4-f0c6-47bd-d0e5-4204f04588a0"
      },
      "execution_count": 27,
      "outputs": [
        {
          "output_type": "execute_result",
          "data": {
            "text/plain": [
              "2"
            ]
          },
          "metadata": {},
          "execution_count": 27
        }
      ]
    },
    {
      "cell_type": "markdown",
      "metadata": {
        "id": "ZqFcuamRZJ9W"
      },
      "source": [
        "## View Schema\n",
        "\n",
        "Was the new table added.  Lets have a look at the schema."
      ]
    },
    {
      "cell_type": "code",
      "execution_count": 28,
      "metadata": {
        "id": "1Ovfl-_OZOPk",
        "colab": {
          "base_uri": "https://localhost:8080/"
        },
        "outputId": "2af788d1-2ee0-4fde-b3e9-0cb19ea8e2f2"
      },
      "outputs": [
        {
          "output_type": "execute_result",
          "data": {
            "text/plain": [
              "[('users',), ('females',), ('males',)]"
            ]
          },
          "metadata": {},
          "execution_count": 28
        }
      ],
      "source": [
        "sql='''\n",
        "SELECT name FROM sqlite_master WHERE type='table';\n",
        "'''\n",
        "cur.execute(sql)\n",
        "cur.fetchall()"
      ]
    },
    {
      "cell_type": "markdown",
      "metadata": {
        "id": "HxepPCmHZZr4"
      },
      "source": [
        "Now lets get details on a table"
      ]
    },
    {
      "cell_type": "code",
      "execution_count": 29,
      "metadata": {
        "id": "tCo1Xrd_ZMR0",
        "colab": {
          "base_uri": "https://localhost:8080/"
        },
        "outputId": "d27490da-9217-48ee-df54-6c1f393a7fc2"
      },
      "outputs": [
        {
          "output_type": "execute_result",
          "data": {
            "text/plain": [
              "[(0, 'userid', 'INT', 0, None, 1),\n",
              " (1, 'fname', 'TEXT', 0, None, 0),\n",
              " (2, 'lname', 'TEXT', 0, None, 0),\n",
              " (3, 'superhero', 'TEXT', 0, None, 0),\n",
              " (4, 'gender', 'TEXT', 0, None, 0)]"
            ]
          },
          "metadata": {},
          "execution_count": 29
        }
      ],
      "source": [
        "sql='''\n",
        "PRAGMA table_info('users');\n",
        "'''\n",
        "cur.execute(sql)\n",
        "cur.fetchall()"
      ]
    },
    {
      "cell_type": "markdown",
      "metadata": {
        "id": "-ldwT9WyZE-2"
      },
      "source": [
        "## Delete (Drop) Table\n",
        "\n",
        "When the IF EXISTS clause is used along with DROP TABLE syntax SQLite will not report any error message if the table does not exist."
      ]
    },
    {
      "cell_type": "code",
      "execution_count": 30,
      "metadata": {
        "id": "cyFWke0AZHI-",
        "colab": {
          "base_uri": "https://localhost:8080/"
        },
        "outputId": "a8237269-eda4-4945-90d4-43648a90601c"
      },
      "outputs": [
        {
          "output_type": "execute_result",
          "data": {
            "text/plain": [
              "[]"
            ]
          },
          "metadata": {},
          "execution_count": 30
        }
      ],
      "source": [
        "sql='''\n",
        "DROP TABLE IF EXISTS males;\n",
        "'''\n",
        "cur.execute(sql)\n",
        "cur.fetchall()"
      ]
    },
    {
      "cell_type": "markdown",
      "metadata": {
        "id": "Ni6mB6QsaKmP"
      },
      "source": [
        "Did it work?"
      ]
    },
    {
      "cell_type": "code",
      "execution_count": 31,
      "metadata": {
        "id": "PJwfJLZoaLG4",
        "colab": {
          "base_uri": "https://localhost:8080/"
        },
        "outputId": "99d0841a-8005-4492-f66c-dd00101eadc2"
      },
      "outputs": [
        {
          "output_type": "execute_result",
          "data": {
            "text/plain": [
              "[('users',), ('females',)]"
            ]
          },
          "metadata": {},
          "execution_count": 31
        }
      ],
      "source": [
        "sql='''\n",
        "SELECT name FROM sqlite_master WHERE type='table';\n",
        "'''\n",
        "cur.execute(sql)\n",
        "cur.fetchall()"
      ]
    },
    {
      "cell_type": "markdown",
      "source": [
        "## Activity - Order the table by 'userid' and display the result"
      ],
      "metadata": {
        "id": "iTX9zLLCnxim"
      }
    },
    {
      "cell_type": "code",
      "source": [
        "sql = '''\n",
        "SELECT * FROM users ORDER BY userid;\n",
        "'''\n",
        "\n",
        "cur.execute(sql)\n",
        "conn.commit()\n",
        "\n",
        "all = cur.fetchall()\n",
        "print(all)"
      ],
      "metadata": {
        "id": "u1om93Tgn3oq",
        "colab": {
          "base_uri": "https://localhost:8080/"
        },
        "outputId": "d8b462bb-342f-4282-a779-76ac4ff56556"
      },
      "execution_count": 32,
      "outputs": [
        {
          "output_type": "stream",
          "name": "stdout",
          "text": [
            "[(2, 'Sue', 'Storm', 'Invisible Woman', 'female'), (3, 'Peter', 'Parker', 'Spiderman', 'male'), (4, 'Tony', 'Stark', 'Ironman', 'male'), (5, 'Diana', 'Princess', 'Wonder Woman', 'female'), (9, 'Sisi', 'Provis', 'Witch', 'female')]\n"
          ]
        }
      ]
    },
    {
      "cell_type": "markdown",
      "metadata": {
        "id": "Y8sPnYirV152"
      },
      "source": [
        "## Close the connection\n",
        "\n",
        "The connection must be closed at the end of the session"
      ]
    },
    {
      "cell_type": "code",
      "execution_count": 33,
      "metadata": {
        "id": "Mvp_-UkEV7cu"
      },
      "outputs": [],
      "source": [
        "conn.close()"
      ]
    }
  ],
  "metadata": {
    "colab": {
      "provenance": [],
      "include_colab_link": true
    },
    "kernelspec": {
      "display_name": "Python 3 (ipykernel)",
      "language": "python",
      "name": "python3"
    },
    "language_info": {
      "codemirror_mode": {
        "name": "ipython",
        "version": 3
      },
      "file_extension": ".py",
      "mimetype": "text/x-python",
      "name": "python",
      "nbconvert_exporter": "python",
      "pygments_lexer": "ipython3",
      "version": "3.9.7"
    }
  },
  "nbformat": 4,
  "nbformat_minor": 0
}