{
  "cells": [
    {
      "cell_type": "markdown",
      "metadata": {
        "id": "view-in-github",
        "colab_type": "text"
      },
      "source": [
        "<a href=\"https://colab.research.google.com/github/isys5002-itp/ISYS5002-2024-S1/blob/main/04_1_input_validation.ipynb\" target=\"_parent\"><img src=\"https://colab.research.google.com/assets/colab-badge.svg\" alt=\"Open In Colab\"/></a>"
      ]
    },
    {
      "cell_type": "markdown",
      "source": [
        "# Getting Help in Python"
      ],
      "metadata": {
        "id": "nB82xaeLRLqX"
      },
      "id": "nB82xaeLRLqX"
    },
    {
      "cell_type": "markdown",
      "source": [
        "The `dir()` and `help()` functions in Python are built-in functions that provide you with a way to explore and understand Python objects and modules interactively. They are incredibly useful for introspection, helping you to know more about any object, including modules, functions, strings, lists, dictionaries, etc."
      ],
      "metadata": {
        "id": "tshFalZuQdf3"
      },
      "id": "tshFalZuQdf3"
    },
    {
      "cell_type": "code",
      "source": [
        "# Example with dir()\n",
        "my_list = [1,2,3]"
      ],
      "metadata": {
        "id": "r9rsdPTBQXyR"
      },
      "id": "r9rsdPTBQXyR",
      "execution_count": 4,
      "outputs": []
    },
    {
      "cell_type": "code",
      "source": [
        "'''\n",
        "Printing out all the methods and attributes associated with a\n",
        "Python list object, such as append, count, extend, insert, pop,\n",
        "remove, reverse, and sort, among others.\n",
        "'''\n",
        "dir(my_list)"
      ],
      "metadata": {
        "id": "J27ew7hkQiwA"
      },
      "id": "J27ew7hkQiwA",
      "execution_count": null,
      "outputs": []
    },
    {
      "cell_type": "code",
      "source": [
        "# Example with help()\n",
        "'''\n",
        "The help() function invokes the built-in Python help system,\n",
        "providing information about the usage of modules, functions, classes, keywords, etc\n",
        "'''\n",
        "help(list) # This command will display an extensive manual page in the console, detailing everything about the list object, including its methods and how to use them."
      ],
      "metadata": {
        "id": "Gt7Xfz0bQ5u2"
      },
      "id": "Gt7Xfz0bQ5u2",
      "execution_count": null,
      "outputs": []
    },
    {
      "cell_type": "markdown",
      "id": "b5835b0c",
      "metadata": {
        "id": "b5835b0c"
      },
      "source": [
        "# Input Validation\n",
        "\n",
        "Input validation code verifies that user supplied data, such as text from the input() function, is formatted appropriately.\n",
        "\n",
        "* try/except\n",
        "* isdigit()\n",
        "* pyinputplus\n"
      ]
    },
    {
      "cell_type": "markdown",
      "source": [
        "## try/except\n",
        "`try/except` is a control structure in Python that is used for exception handling. It allows you to handle errors or exceptions that may occur during the execution of a block of code, so that the program can recover from the error and continue running, instead of crashing.\n",
        "\n",
        "The `try` block is used to *enclose the code that might raise an exception or an error*. If an exception occurs within the `try` block, the program jumps to the `except` block, and executes the code within it, which is designed to handle the exception.\n",
        "\n",
        "Here's the basic syntax for a `try/except` block:\n",
        "\n",
        "\n",
        "```\n",
        "try:\n",
        "    # code that may raise an exception\n",
        "except ExceptionType:\n",
        "    # code to handle the exception\n",
        "```\n",
        "\n",
        "In this example, `ExceptionType` refers to the type of exception that may be raised by the code within the `try` block. When an exception of that type occurs, the program jumps to the `except` block and executes the code within it.\n",
        "\n",
        "If an exception occurs that is not of the specified type, it will not be handled by the `except` block, and the program will terminate with an error message.\n",
        "\n",
        "`try/except` blocks can have multiple `except` blocks to handle different types of exceptions that may occur. It can also have an optional `else` block that is executed if no exceptions are raised within the `try` block.\n"
      ],
      "metadata": {
        "id": "WRX-iQ-hIwbJ"
      },
      "id": "WRX-iQ-hIwbJ"
    },
    {
      "cell_type": "markdown",
      "source": [
        "### Use `try/except` to handle an error that may occur when converting a user's input to an integer:"
      ],
      "metadata": {
        "id": "BgQWp7RRJMLk"
      },
      "id": "BgQWp7RRJMLk"
    },
    {
      "cell_type": "code",
      "source": [
        "try:\n",
        "  age_str = input(\"Enter your age: \")\n",
        "  age = int(age_str)\n",
        "except ValueError:\n",
        "  print(\"Sorry, that was an invalid input.\\nPlease enter a numerical whole number for age.\")"
      ],
      "metadata": {
        "id": "CuiSM1VmTYvW"
      },
      "id": "CuiSM1VmTYvW",
      "execution_count": null,
      "outputs": []
    },
    {
      "cell_type": "markdown",
      "source": [
        "In this example, the try block contains the code that attempts to convert the user's input to an integer using the int() function. If the user enters a string that cannot be converted to an integer, a ValueError exception is raised.\n",
        "\n",
        "The except block that follows the try block handles the ValueError exception, and prints an error message asking the user to enter a whole number for their age.\n",
        "\n",
        "Using try/except in this way ensures that the program doesn't crash if the user enters invalid input. Instead, it catches the error and executes the code in the except block to handle the error."
      ],
      "metadata": {
        "id": "xKZCTdx-JXva"
      },
      "id": "xKZCTdx-JXva"
    },
    {
      "cell_type": "markdown",
      "source": [
        "### Use a `while` loop to keep prompting the user to enter their age until they enter a valid integer:"
      ],
      "metadata": {
        "id": "V0ivzQuuLz9H"
      },
      "id": "V0ivzQuuLz9H"
    },
    {
      "cell_type": "code",
      "source": [
        "while True: # setup an infinitie loop\n",
        "  try:\n",
        "    age = int(input('How old are you? '))\n",
        "    break # whenint conversion is successfull, this like 'break' will be excuted, getting out of the loop\n",
        "  except ValueError:\n",
        "    print('Please enter a whole number')\n",
        "\n",
        "print('Your age is: ' + str(age))"
      ],
      "metadata": {
        "id": "PaBvbJcbLDgu",
        "colab": {
          "base_uri": "https://localhost:8080/"
        },
        "outputId": "f78f1d72-b9b4-47a0-9963-2691e846c37b"
      },
      "id": "PaBvbJcbLDgu",
      "execution_count": 13,
      "outputs": [
        {
          "output_type": "stream",
          "name": "stdout",
          "text": [
            "How old are you? ten\n",
            "Please enter a whole number\n",
            "How old are you? 1en\n",
            "Please enter a whole number\n",
            "How old are you? 10\n",
            "Your age is: 10\n"
          ]
        }
      ]
    },
    {
      "cell_type": "markdown",
      "id": "acc7252b",
      "metadata": {
        "id": "acc7252b"
      },
      "source": [
        "## isdigit()\n",
        "\n",
        "In Python, `isdigit()` is a method that can be called on a string object to check if all characters in the string are digits.\n",
        "\n",
        "It returns `True` if all characters in the string are digits and there is at least one character in the string, otherwise it returns False.\n",
        "\n",
        "`isdigit()` is often used to validate user input for numeric values, like checking if the user entered an integer or a floating-point number. For example, if you expect the user to enter their age as an integer, you could use `isdigit()` to ensure that the input only contains digits before converting it to an integer.\n",
        "\n",
        "### Use `isdigit()` to validate user input for an integer:"
      ]
    },
    {
      "cell_type": "code",
      "execution_count": 14,
      "id": "5f98c241",
      "metadata": {
        "id": "5f98c241",
        "colab": {
          "base_uri": "https://localhost:8080/"
        },
        "outputId": "e9a9d032-4d9a-4686-dafc-940b3393c539"
      },
      "outputs": [
        {
          "output_type": "stream",
          "name": "stdout",
          "text": [
            "How old are you? 1ten\n",
            "Please enter a whole number\n",
            "How old are you? 12\n",
            "Your age is: 12\n"
          ]
        }
      ],
      "source": [
        "while True:\n",
        "    age_str = input('How old are you? ')\n",
        "    if age_str.isdigit():\n",
        "      age_int = int(age_str)\n",
        "      break\n",
        "    else:\n",
        "      print('Please enter a whole number')\n",
        "\n",
        "print('Your age is: ' + str(age_int))"
      ]
    },
    {
      "cell_type": "markdown",
      "id": "18c00dc3",
      "metadata": {
        "id": "18c00dc3"
      },
      "source": [
        "## Module: PyInputPlus\n",
        "\n",
        "`pyinputplus` is a Python module that provides input validation functions to simplify the process of getting user input from the command line. It can handle various types of input validation, such as integers, floating-point numbers, dates and times, email addresses, and more. It also provides more robust error handling than the built-in `input()` function in Python."
      ]
    },
    {
      "cell_type": "code",
      "execution_count": 15,
      "id": "dfe1740b",
      "metadata": {
        "id": "dfe1740b",
        "colab": {
          "base_uri": "https://localhost:8080/"
        },
        "outputId": "e3a253a7-5552-4be6-ef6c-981889799a35"
      },
      "outputs": [
        {
          "output_type": "stream",
          "name": "stdout",
          "text": [
            "Collecting PyInputPlus\n",
            "  Downloading PyInputPlus-0.2.12.tar.gz (20 kB)\n",
            "  Installing build dependencies ... \u001b[?25l\u001b[?25hdone\n",
            "  Getting requirements to build wheel ... \u001b[?25l\u001b[?25hdone\n",
            "  Preparing metadata (pyproject.toml) ... \u001b[?25l\u001b[?25hdone\n",
            "Collecting pysimplevalidate>=0.2.7 (from PyInputPlus)\n",
            "  Downloading PySimpleValidate-0.2.12.tar.gz (22 kB)\n",
            "  Installing build dependencies ... \u001b[?25l\u001b[?25hdone\n",
            "  Getting requirements to build wheel ... \u001b[?25l\u001b[?25hdone\n",
            "  Preparing metadata (pyproject.toml) ... \u001b[?25l\u001b[?25hdone\n",
            "Collecting stdiomask>=0.0.3 (from PyInputPlus)\n",
            "  Downloading stdiomask-0.0.6.tar.gz (3.6 kB)\n",
            "  Installing build dependencies ... \u001b[?25l\u001b[?25hdone\n",
            "  Getting requirements to build wheel ... \u001b[?25l\u001b[?25hdone\n",
            "  Preparing metadata (pyproject.toml) ... \u001b[?25l\u001b[?25hdone\n",
            "Building wheels for collected packages: PyInputPlus, pysimplevalidate, stdiomask\n",
            "  Building wheel for PyInputPlus (pyproject.toml) ... \u001b[?25l\u001b[?25hdone\n",
            "  Created wheel for PyInputPlus: filename=PyInputPlus-0.2.12-py3-none-any.whl size=11296 sha256=f6e5f4117aa18abf67a7562b333c0251fd9dfccbce6ccfe678a57f937293262a\n",
            "  Stored in directory: /root/.cache/pip/wheels/13/ec/a5/f780c8008b74e885aada43369ebf4d350edfd12bb5909ccb23\n",
            "  Building wheel for pysimplevalidate (pyproject.toml) ... \u001b[?25l\u001b[?25hdone\n",
            "  Created wheel for pysimplevalidate: filename=PySimpleValidate-0.2.12-py3-none-any.whl size=16176 sha256=89897483ddeefc3a37b2b2d3c964d6b65fc64e72281f3817400ba0d5b6b4b6f5\n",
            "  Stored in directory: /root/.cache/pip/wheels/64/29/c9/2ee861e5b0775e289013b7c7157e0bdcea3a1b844f835b2eb8\n",
            "  Building wheel for stdiomask (pyproject.toml) ... \u001b[?25l\u001b[?25hdone\n",
            "  Created wheel for stdiomask: filename=stdiomask-0.0.6-py3-none-any.whl size=3306 sha256=71b3af223b6acd263795d0345691b7090a45d0aa04f269d667a7e717c096694a\n",
            "  Stored in directory: /root/.cache/pip/wheels/6c/00/4b/0715696f101d7376f67a83cf3d545feb8c241eeee75b80bb6f\n",
            "Successfully built PyInputPlus pysimplevalidate stdiomask\n",
            "Installing collected packages: stdiomask, pysimplevalidate, PyInputPlus\n",
            "Successfully installed PyInputPlus-0.2.12 pysimplevalidate-0.2.12 stdiomask-0.0.6\n"
          ]
        }
      ],
      "source": [
        "# install the module\n",
        "!pip install PyInputPlus\n"
      ]
    },
    {
      "cell_type": "code",
      "execution_count": 16,
      "id": "9a52f49e",
      "metadata": {
        "id": "9a52f49e",
        "colab": {
          "base_uri": "https://localhost:8080/"
        },
        "outputId": "9a0f79f3-6056-4beb-a3fc-3a6fc6edede2"
      },
      "outputs": [
        {
          "output_type": "stream",
          "name": "stdout",
          "text": [
            "Enter your age: 1up\n",
            "'1up' is not an integer.\n",
            "Enter your age: 2y0\n",
            "'2y0' is not an integer.\n",
            "Enter your age: 10\n",
            "Your age is:  10\n"
          ]
        }
      ],
      "source": [
        "import pyinputplus as pyip\n",
        "\n",
        "response = pyip.inputInt('Enter your age: ', min=1)\n",
        "\n",
        "print(\"Your age is: \", response)\n"
      ]
    },
    {
      "cell_type": "code",
      "execution_count": null,
      "id": "28ee4733",
      "metadata": {
        "id": "28ee4733"
      },
      "outputs": [],
      "source": []
    }
  ],
  "metadata": {
    "kernelspec": {
      "display_name": "Python 3 (ipykernel)",
      "language": "python",
      "name": "python3"
    },
    "language_info": {
      "codemirror_mode": {
        "name": "ipython",
        "version": 3
      },
      "file_extension": ".py",
      "mimetype": "text/x-python",
      "name": "python",
      "nbconvert_exporter": "python",
      "pygments_lexer": "ipython3",
      "version": "3.9.7"
    },
    "colab": {
      "provenance": [],
      "include_colab_link": true
    }
  },
  "nbformat": 4,
  "nbformat_minor": 5
}