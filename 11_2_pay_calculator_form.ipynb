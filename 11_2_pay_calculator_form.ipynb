{
  "nbformat": 4,
  "nbformat_minor": 0,
  "metadata": {
    "colab": {
      "provenance": [],
      "include_colab_link": true
    },
    "kernelspec": {
      "name": "python3",
      "display_name": "Python 3"
    },
    "language_info": {
      "name": "python"
    }
  },
  "cells": [
    {
      "cell_type": "markdown",
      "metadata": {
        "id": "view-in-github",
        "colab_type": "text"
      },
      "source": [
        "<a href=\"https://colab.research.google.com/github/isys5002-itp/ISYS5002-2024-S1/blob/main/11_2_pay_calculator_form.ipynb\" target=\"_parent\"><img src=\"https://colab.research.google.com/assets/colab-badge.svg\" alt=\"Open In Colab\"/></a>"
      ]
    },
    {
      "cell_type": "markdown",
      "source": [
        "# Pay Calculator\n",
        "\n",
        "Use this calculator to quickly estimate how much tax you will pay on your weekly income. This calculator conforms to official Australian Tax Office rates and formulas."
      ],
      "metadata": {
        "id": "t4G8SVevOtOe"
      }
    },
    {
      "cell_type": "code",
      "execution_count": null,
      "metadata": {
        "id": "JETzvqg4zJ6s"
      },
      "outputs": [],
      "source": [
        "def calculate_ato_tax(income):\n",
        "  '''\n",
        "  Calculate the tax payable on yearly income based on the Australian Tax\n",
        "  Office Resident tax rates 2021–22 Taxable Income\n",
        "  '''\n",
        "  tax_payable = 0 # if income <= 18200:\n",
        "  if 18201 <= income <= 45000:\n",
        "    tax_payable = 0.19 * (income - 18200)\n",
        "  elif 45001 <= income <= 120000:\n",
        "    tax_payable = 5092 + 0.32 * (income - 45000)\n",
        "  elif 120001 <= income <= 180000:\n",
        "    tax_payable = 29467 + 0.37 * (income - 120000)\n",
        "  elif income >= 180001:\n",
        "    tax_payable = 51667 + 0.45 * (income - 180000)\n",
        "  return tax_payable\n",
        "\n",
        "\n",
        "def print_payslip(name, date, salary, sales):\n",
        "  '''\n",
        "  Print pay details given a salary and sales\n",
        "  '''\n",
        "  commission = 0.02 * sales\n",
        "  earnings = salary + commission\n",
        "  income = earnings * 52\n",
        "  tax = calculate_ato_tax(income) / 52\n",
        "  pay = earnings - tax\n",
        "\n",
        "  # Print pay slip\n",
        "  print(f'Payslip of {name} for week {week}')\n",
        "  print(f'Weekly Salary: ${salary:.2f} Commission: ${commission:.2f} Tax: ${tax:.2f}')\n",
        "  print(f'Take Home Pay ${pay:.2f}')\n",
        "\n",
        "\n",
        "name = 'Joe Blogs'\n",
        "date = '2022-05-27'\n",
        "salary =   1600\n",
        "sales = 4000\n",
        "\n",
        "print_payslip(name, date, salary, sales)"
      ]
    },
    {
      "cell_type": "code",
      "source": [
        "# @title Pay Calculator { run: \"auto\", vertical-output: true }\n",
        "name = \"Jane Doe\" # @param {type:\"string\"}\n",
        "date = \"2024-05-06\" # @param {type:\"date\"}\n",
        "salary = 10000 # @param {type: \"number\"}\n",
        "sales = 200 # @param {type:\"integer\"}\n",
        "\n",
        "def calculate_ato_tax(income):\n",
        "  '''\n",
        "  Calculate the tax payable on yearly income based on the Australian Tax\n",
        "  Office Resident tax rates 2021–22 Taxable Income\n",
        "  '''\n",
        "  tax_payable = 0 # if income <= 18200:\n",
        "  if 18201 <= income <= 45000:\n",
        "    tax_payable = 0.19 * (income - 18200)\n",
        "  elif 45001 <= income <= 120000:\n",
        "    tax_payable = 5092 + 0.32 * (income - 45000)\n",
        "  elif 120001 <= income <= 180000:\n",
        "    tax_payable = 29467 + 0.37 * (income - 120000)\n",
        "  elif income >= 180001:\n",
        "    tax_payable = 51667 + 0.45 * (income - 180000)\n",
        "  return tax_payable\n",
        "\n",
        "\n",
        "def print_payslip(name, date, salary, sales):\n",
        "  '''\n",
        "  Print pay details given a salary and sales\n",
        "  '''\n",
        "  commission = 0.02 * sales\n",
        "  earnings = salary + commission\n",
        "  income = earnings * 52\n",
        "  tax = calculate_ato_tax(income) / 52\n",
        "  pay = earnings - tax\n",
        "\n",
        "  # Print pay slip\n",
        "  print(f'Payslip of {name} for week {date}')\n",
        "  print(f'Weekly Salary: ${salary:.2f} Commission: ${commission:.2f} Tax: ${tax:.2f}')\n",
        "  print(f'Take Home Pay ${pay:.2f}')\n",
        "\n",
        "\n",
        "# name = 'Joe Blogs'\n",
        "#date = '2022-05-27'\n",
        "#salary =   1600\n",
        "#sales = 4000\n",
        "\n",
        "\n",
        "print_payslip(name, date, salary, sales)"
      ],
      "metadata": {
        "id": "5Sbh5hiw_QNV",
        "colab": {
          "base_uri": "https://localhost:8080/"
        },
        "outputId": "d88ebc3e-5f63-45bf-85b6-7003b2b15cfb"
      },
      "execution_count": null,
      "outputs": [
        {
          "output_type": "stream",
          "name": "stdout",
          "text": [
            "Payslip of Jane Doe for week 2024-05-06\n",
            "Weekly Salary: $10000.00 Commission: $4.00 Tax: $3937.70\n",
            "Take Home Pay $6066.30\n"
          ]
        }
      ]
    }
  ]
}